{
 "cells": [
  {
   "cell_type": "markdown",
   "metadata": {},
   "source": [
    "## Analyze A/B Test Results\n",
    "\n",
    "You may either submit your notebook through the workspace here, or you may work from your local machine and submit through the next page.  Either way assure that your code passes the project [RUBRIC](https://review.udacity.com/#!/projects/37e27304-ad47-4eb0-a1ab-8c12f60e43d0/rubric).  **Please save regularly.**\n",
    "\n",
    "This project will assure you have mastered the subjects covered in the statistics lessons.  The hope is to have this project be as comprehensive of these topics as possible.  Good luck!\n",
    "\n",
    "## Table of Contents\n",
    "- [Introduction](#intro)\n",
    "- [Part I - Probability](#probability)\n",
    "- [Part II - A/B Test](#ab_test)\n",
    "- [Part III - Regression](#regression)\n",
    "\n",
    "\n",
    "<a id='intro'></a>\n",
    "### Introduction\n",
    "\n",
    "A/B tests are very commonly performed by data analysts and data scientists.  It is important that you get some practice working with the difficulties of these \n",
    "\n",
    "For this project, you will be working to understand the results of an A/B test run by an e-commerce website.  Your goal is to work through this notebook to help the company understand if they should implement the new page, keep the old page, or perhaps run the experiment longer to make their decision.\n",
    "\n",
    "**As you work through this notebook, follow along in the classroom and answer the corresponding quiz questions associated with each question.** The labels for each classroom concept are provided for each question.  This will assure you are on the right track as you work through the project, and you can feel more confident in your final submission meeting the criteria.  As a final check, assure you meet all the criteria on the [RUBRIC](https://review.udacity.com/#!/projects/37e27304-ad47-4eb0-a1ab-8c12f60e43d0/rubric).\n",
    "\n",
    "<a id='probability'></a>\n",
    "#### Part I - Probability\n",
    "\n",
    "To get started, let's import our libraries."
   ]
  },
  {
   "cell_type": "code",
   "execution_count": 3,
   "metadata": {},
   "outputs": [],
   "source": [
    "import pandas as pd\n",
    "import numpy as np\n",
    "import random\n",
    "import matplotlib.pyplot as plt\n",
    "%matplotlib inline\n",
    "#We are setting the seed to assure you get the same answers on quizzes as we set up\n",
    "random.seed(42)"
   ]
  },
  {
   "cell_type": "markdown",
   "metadata": {},
   "source": [
    "`1.` Now, read in the `ab_data.csv` data. Store it in `df`.  **Use your dataframe to answer the questions in Quiz 1 of the classroom.**\n",
    "\n",
    "a. Read in the dataset and take a look at the top few rows here:"
   ]
  },
  {
   "cell_type": "code",
   "execution_count": 4,
   "metadata": {},
   "outputs": [
    {
     "data": {
      "text/html": [
       "<div>\n",
       "<style scoped>\n",
       "    .dataframe tbody tr th:only-of-type {\n",
       "        vertical-align: middle;\n",
       "    }\n",
       "\n",
       "    .dataframe tbody tr th {\n",
       "        vertical-align: top;\n",
       "    }\n",
       "\n",
       "    .dataframe thead th {\n",
       "        text-align: right;\n",
       "    }\n",
       "</style>\n",
       "<table border=\"1\" class=\"dataframe\">\n",
       "  <thead>\n",
       "    <tr style=\"text-align: right;\">\n",
       "      <th></th>\n",
       "      <th>user_id</th>\n",
       "      <th>timestamp</th>\n",
       "      <th>group</th>\n",
       "      <th>landing_page</th>\n",
       "      <th>converted</th>\n",
       "    </tr>\n",
       "  </thead>\n",
       "  <tbody>\n",
       "    <tr>\n",
       "      <th>0</th>\n",
       "      <td>851104</td>\n",
       "      <td>2017-01-21 22:11:48.556739</td>\n",
       "      <td>control</td>\n",
       "      <td>old_page</td>\n",
       "      <td>0</td>\n",
       "    </tr>\n",
       "    <tr>\n",
       "      <th>1</th>\n",
       "      <td>804228</td>\n",
       "      <td>2017-01-12 08:01:45.159739</td>\n",
       "      <td>control</td>\n",
       "      <td>old_page</td>\n",
       "      <td>0</td>\n",
       "    </tr>\n",
       "    <tr>\n",
       "      <th>2</th>\n",
       "      <td>661590</td>\n",
       "      <td>2017-01-11 16:55:06.154213</td>\n",
       "      <td>treatment</td>\n",
       "      <td>new_page</td>\n",
       "      <td>0</td>\n",
       "    </tr>\n",
       "    <tr>\n",
       "      <th>3</th>\n",
       "      <td>853541</td>\n",
       "      <td>2017-01-08 18:28:03.143765</td>\n",
       "      <td>treatment</td>\n",
       "      <td>new_page</td>\n",
       "      <td>0</td>\n",
       "    </tr>\n",
       "    <tr>\n",
       "      <th>4</th>\n",
       "      <td>864975</td>\n",
       "      <td>2017-01-21 01:52:26.210827</td>\n",
       "      <td>control</td>\n",
       "      <td>old_page</td>\n",
       "      <td>1</td>\n",
       "    </tr>\n",
       "  </tbody>\n",
       "</table>\n",
       "</div>"
      ],
      "text/plain": [
       "   user_id                   timestamp      group landing_page  converted\n",
       "0   851104  2017-01-21 22:11:48.556739    control     old_page          0\n",
       "1   804228  2017-01-12 08:01:45.159739    control     old_page          0\n",
       "2   661590  2017-01-11 16:55:06.154213  treatment     new_page          0\n",
       "3   853541  2017-01-08 18:28:03.143765  treatment     new_page          0\n",
       "4   864975  2017-01-21 01:52:26.210827    control     old_page          1"
      ]
     },
     "execution_count": 4,
     "metadata": {},
     "output_type": "execute_result"
    }
   ],
   "source": [
    "df = pd.read_csv(\"ab_data.csv\")\n",
    "df.head()"
   ]
  },
  {
   "cell_type": "markdown",
   "metadata": {},
   "source": [
    "b. Use the cell below to find the number of rows in the dataset."
   ]
  },
  {
   "cell_type": "code",
   "execution_count": 5,
   "metadata": {},
   "outputs": [
    {
     "data": {
      "text/plain": [
       "294478"
      ]
     },
     "execution_count": 5,
     "metadata": {},
     "output_type": "execute_result"
    }
   ],
   "source": [
    "tot_usr = df.shape[0]\n",
    "tot_usr"
   ]
  },
  {
   "cell_type": "markdown",
   "metadata": {},
   "source": [
    "c. The number of unique users in the dataset."
   ]
  },
  {
   "cell_type": "code",
   "execution_count": 6,
   "metadata": {},
   "outputs": [
    {
     "data": {
      "text/plain": [
       "290584"
      ]
     },
     "execution_count": 6,
     "metadata": {},
     "output_type": "execute_result"
    }
   ],
   "source": [
    "df.nunique()[0]"
   ]
  },
  {
   "cell_type": "markdown",
   "metadata": {
    "collapsed": true
   },
   "source": [
    "d. The proportion of users converted."
   ]
  },
  {
   "cell_type": "code",
   "execution_count": 7,
   "metadata": {},
   "outputs": [
    {
     "data": {
      "text/plain": [
       "0.11965919355605512"
      ]
     },
     "execution_count": 7,
     "metadata": {},
     "output_type": "execute_result"
    }
   ],
   "source": [
    "#tot_usr_conv =\n",
    "tot_usr_conv = df.groupby([\"converted\"]).count()['user_id'][1]/tot_usr\n",
    "tot_usr_conv"
   ]
  },
  {
   "cell_type": "markdown",
   "metadata": {
    "collapsed": true
   },
   "source": [
    "e. The number of times the `new_page` and `treatment` don't match."
   ]
  },
  {
   "cell_type": "code",
   "execution_count": 8,
   "metadata": {
    "scrolled": true
   },
   "outputs": [
    {
     "data": {
      "text/html": [
       "<div>\n",
       "<style scoped>\n",
       "    .dataframe tbody tr th:only-of-type {\n",
       "        vertical-align: middle;\n",
       "    }\n",
       "\n",
       "    .dataframe tbody tr th {\n",
       "        vertical-align: top;\n",
       "    }\n",
       "\n",
       "    .dataframe thead th {\n",
       "        text-align: right;\n",
       "    }\n",
       "</style>\n",
       "<table border=\"1\" class=\"dataframe\">\n",
       "  <thead>\n",
       "    <tr style=\"text-align: right;\">\n",
       "      <th></th>\n",
       "      <th></th>\n",
       "      <th>user_id</th>\n",
       "      <th>timestamp</th>\n",
       "      <th>converted</th>\n",
       "    </tr>\n",
       "    <tr>\n",
       "      <th>group</th>\n",
       "      <th>landing_page</th>\n",
       "      <th></th>\n",
       "      <th></th>\n",
       "      <th></th>\n",
       "    </tr>\n",
       "  </thead>\n",
       "  <tbody>\n",
       "    <tr>\n",
       "      <th rowspan=\"2\" valign=\"top\">control</th>\n",
       "      <th>new_page</th>\n",
       "      <td>1928</td>\n",
       "      <td>1928</td>\n",
       "      <td>1928</td>\n",
       "    </tr>\n",
       "    <tr>\n",
       "      <th>old_page</th>\n",
       "      <td>145274</td>\n",
       "      <td>145274</td>\n",
       "      <td>145274</td>\n",
       "    </tr>\n",
       "    <tr>\n",
       "      <th rowspan=\"2\" valign=\"top\">treatment</th>\n",
       "      <th>new_page</th>\n",
       "      <td>145311</td>\n",
       "      <td>145311</td>\n",
       "      <td>145311</td>\n",
       "    </tr>\n",
       "    <tr>\n",
       "      <th>old_page</th>\n",
       "      <td>1965</td>\n",
       "      <td>1965</td>\n",
       "      <td>1965</td>\n",
       "    </tr>\n",
       "  </tbody>\n",
       "</table>\n",
       "</div>"
      ],
      "text/plain": [
       "                        user_id  timestamp  converted\n",
       "group     landing_page                               \n",
       "control   new_page         1928       1928       1928\n",
       "          old_page       145274     145274     145274\n",
       "treatment new_page       145311     145311     145311\n",
       "          old_page         1965       1965       1965"
      ]
     },
     "execution_count": 8,
     "metadata": {},
     "output_type": "execute_result"
    }
   ],
   "source": [
    "a = df.groupby([\"group\",\"landing_page\"]).count()\n",
    "a"
   ]
  },
  {
   "cell_type": "code",
   "execution_count": 9,
   "metadata": {},
   "outputs": [
    {
     "data": {
      "text/plain": [
       "3893"
      ]
     },
     "execution_count": 9,
     "metadata": {},
     "output_type": "execute_result"
    }
   ],
   "source": [
    "a[\"user_id\"][-1] + a[\"user_id\"][0]"
   ]
  },
  {
   "cell_type": "markdown",
   "metadata": {},
   "source": [
    "f. Do any of the rows have missing values?"
   ]
  },
  {
   "cell_type": "code",
   "execution_count": 10,
   "metadata": {},
   "outputs": [
    {
     "name": "stdout",
     "output_type": "stream",
     "text": [
      "<class 'pandas.core.frame.DataFrame'>\n",
      "RangeIndex: 294478 entries, 0 to 294477\n",
      "Data columns (total 5 columns):\n",
      "user_id         294478 non-null int64\n",
      "timestamp       294478 non-null object\n",
      "group           294478 non-null object\n",
      "landing_page    294478 non-null object\n",
      "converted       294478 non-null int64\n",
      "dtypes: int64(2), object(3)\n",
      "memory usage: 11.2+ MB\n"
     ]
    }
   ],
   "source": [
    "df.info()"
   ]
  },
  {
   "cell_type": "markdown",
   "metadata": {},
   "source": [
    "`2.` For the rows where **treatment** does not match with **new_page** or **control** does not match with **old_page**, we cannot be sure if this row truly received the new or old page.  Use **Quiz 2** in the classroom to figure out how we should handle these rows.  \n",
    "\n",
    "a. Now use the answer to the quiz to create a new dataset that meets the specifications from the quiz.  Store your new dataframe in **df2**."
   ]
  },
  {
   "cell_type": "code",
   "execution_count": 11,
   "metadata": {},
   "outputs": [],
   "source": [
    "df.drop(df[(df.group == 'treatment') & (df.landing_page == 'old_page')].index,inplace=True)\n",
    "\n"
   ]
  },
  {
   "cell_type": "code",
   "execution_count": 12,
   "metadata": {},
   "outputs": [],
   "source": [
    "df.drop(df[(df.group == 'control') & (df.landing_page == 'new_page')].index,inplace=True)\n",
    "\n"
   ]
  },
  {
   "cell_type": "code",
   "execution_count": 13,
   "metadata": {},
   "outputs": [],
   "source": [
    "df2 = df"
   ]
  },
  {
   "cell_type": "code",
   "execution_count": 14,
   "metadata": {
    "scrolled": true
   },
   "outputs": [
    {
     "data": {
      "text/plain": [
       "True"
      ]
     },
     "execution_count": 14,
     "metadata": {},
     "output_type": "execute_result"
    }
   ],
   "source": [
    "((df2['group'] == 'treatment') == (df2['landing_page'] == 'new_page')).sum() == 290585"
   ]
  },
  {
   "cell_type": "code",
   "execution_count": 15,
   "metadata": {},
   "outputs": [
    {
     "data": {
      "text/html": [
       "<div>\n",
       "<style scoped>\n",
       "    .dataframe tbody tr th:only-of-type {\n",
       "        vertical-align: middle;\n",
       "    }\n",
       "\n",
       "    .dataframe tbody tr th {\n",
       "        vertical-align: top;\n",
       "    }\n",
       "\n",
       "    .dataframe thead th {\n",
       "        text-align: right;\n",
       "    }\n",
       "</style>\n",
       "<table border=\"1\" class=\"dataframe\">\n",
       "  <thead>\n",
       "    <tr style=\"text-align: right;\">\n",
       "      <th></th>\n",
       "      <th>user_id</th>\n",
       "      <th>timestamp</th>\n",
       "      <th>group</th>\n",
       "      <th>landing_page</th>\n",
       "      <th>converted</th>\n",
       "    </tr>\n",
       "  </thead>\n",
       "  <tbody>\n",
       "    <tr>\n",
       "      <th>0</th>\n",
       "      <td>851104</td>\n",
       "      <td>2017-01-21 22:11:48.556739</td>\n",
       "      <td>control</td>\n",
       "      <td>old_page</td>\n",
       "      <td>0</td>\n",
       "    </tr>\n",
       "    <tr>\n",
       "      <th>1</th>\n",
       "      <td>804228</td>\n",
       "      <td>2017-01-12 08:01:45.159739</td>\n",
       "      <td>control</td>\n",
       "      <td>old_page</td>\n",
       "      <td>0</td>\n",
       "    </tr>\n",
       "    <tr>\n",
       "      <th>2</th>\n",
       "      <td>661590</td>\n",
       "      <td>2017-01-11 16:55:06.154213</td>\n",
       "      <td>treatment</td>\n",
       "      <td>new_page</td>\n",
       "      <td>0</td>\n",
       "    </tr>\n",
       "    <tr>\n",
       "      <th>3</th>\n",
       "      <td>853541</td>\n",
       "      <td>2017-01-08 18:28:03.143765</td>\n",
       "      <td>treatment</td>\n",
       "      <td>new_page</td>\n",
       "      <td>0</td>\n",
       "    </tr>\n",
       "    <tr>\n",
       "      <th>4</th>\n",
       "      <td>864975</td>\n",
       "      <td>2017-01-21 01:52:26.210827</td>\n",
       "      <td>control</td>\n",
       "      <td>old_page</td>\n",
       "      <td>1</td>\n",
       "    </tr>\n",
       "    <tr>\n",
       "      <th>5</th>\n",
       "      <td>936923</td>\n",
       "      <td>2017-01-10 15:20:49.083499</td>\n",
       "      <td>control</td>\n",
       "      <td>old_page</td>\n",
       "      <td>0</td>\n",
       "    </tr>\n",
       "    <tr>\n",
       "      <th>6</th>\n",
       "      <td>679687</td>\n",
       "      <td>2017-01-19 03:26:46.940749</td>\n",
       "      <td>treatment</td>\n",
       "      <td>new_page</td>\n",
       "      <td>1</td>\n",
       "    </tr>\n",
       "    <tr>\n",
       "      <th>7</th>\n",
       "      <td>719014</td>\n",
       "      <td>2017-01-17 01:48:29.539573</td>\n",
       "      <td>control</td>\n",
       "      <td>old_page</td>\n",
       "      <td>0</td>\n",
       "    </tr>\n",
       "    <tr>\n",
       "      <th>8</th>\n",
       "      <td>817355</td>\n",
       "      <td>2017-01-04 17:58:08.979471</td>\n",
       "      <td>treatment</td>\n",
       "      <td>new_page</td>\n",
       "      <td>1</td>\n",
       "    </tr>\n",
       "    <tr>\n",
       "      <th>9</th>\n",
       "      <td>839785</td>\n",
       "      <td>2017-01-15 18:11:06.610965</td>\n",
       "      <td>treatment</td>\n",
       "      <td>new_page</td>\n",
       "      <td>1</td>\n",
       "    </tr>\n",
       "    <tr>\n",
       "      <th>10</th>\n",
       "      <td>929503</td>\n",
       "      <td>2017-01-18 05:37:11.527370</td>\n",
       "      <td>treatment</td>\n",
       "      <td>new_page</td>\n",
       "      <td>0</td>\n",
       "    </tr>\n",
       "    <tr>\n",
       "      <th>11</th>\n",
       "      <td>834487</td>\n",
       "      <td>2017-01-21 22:37:47.774891</td>\n",
       "      <td>treatment</td>\n",
       "      <td>new_page</td>\n",
       "      <td>0</td>\n",
       "    </tr>\n",
       "    <tr>\n",
       "      <th>12</th>\n",
       "      <td>803683</td>\n",
       "      <td>2017-01-09 06:05:16.222706</td>\n",
       "      <td>treatment</td>\n",
       "      <td>new_page</td>\n",
       "      <td>0</td>\n",
       "    </tr>\n",
       "    <tr>\n",
       "      <th>13</th>\n",
       "      <td>944475</td>\n",
       "      <td>2017-01-22 01:31:09.573836</td>\n",
       "      <td>treatment</td>\n",
       "      <td>new_page</td>\n",
       "      <td>0</td>\n",
       "    </tr>\n",
       "    <tr>\n",
       "      <th>14</th>\n",
       "      <td>718956</td>\n",
       "      <td>2017-01-22 11:45:11.327945</td>\n",
       "      <td>treatment</td>\n",
       "      <td>new_page</td>\n",
       "      <td>0</td>\n",
       "    </tr>\n",
       "    <tr>\n",
       "      <th>15</th>\n",
       "      <td>644214</td>\n",
       "      <td>2017-01-22 02:05:21.719434</td>\n",
       "      <td>control</td>\n",
       "      <td>old_page</td>\n",
       "      <td>1</td>\n",
       "    </tr>\n",
       "    <tr>\n",
       "      <th>16</th>\n",
       "      <td>847721</td>\n",
       "      <td>2017-01-17 14:01:00.090575</td>\n",
       "      <td>control</td>\n",
       "      <td>old_page</td>\n",
       "      <td>0</td>\n",
       "    </tr>\n",
       "    <tr>\n",
       "      <th>17</th>\n",
       "      <td>888545</td>\n",
       "      <td>2017-01-08 06:37:26.332945</td>\n",
       "      <td>treatment</td>\n",
       "      <td>new_page</td>\n",
       "      <td>1</td>\n",
       "    </tr>\n",
       "    <tr>\n",
       "      <th>18</th>\n",
       "      <td>650559</td>\n",
       "      <td>2017-01-24 11:55:51.084801</td>\n",
       "      <td>control</td>\n",
       "      <td>old_page</td>\n",
       "      <td>0</td>\n",
       "    </tr>\n",
       "    <tr>\n",
       "      <th>19</th>\n",
       "      <td>935734</td>\n",
       "      <td>2017-01-17 20:33:37.428378</td>\n",
       "      <td>control</td>\n",
       "      <td>old_page</td>\n",
       "      <td>0</td>\n",
       "    </tr>\n",
       "    <tr>\n",
       "      <th>20</th>\n",
       "      <td>740805</td>\n",
       "      <td>2017-01-12 18:59:45.453277</td>\n",
       "      <td>treatment</td>\n",
       "      <td>new_page</td>\n",
       "      <td>0</td>\n",
       "    </tr>\n",
       "    <tr>\n",
       "      <th>21</th>\n",
       "      <td>759875</td>\n",
       "      <td>2017-01-09 16:11:58.806110</td>\n",
       "      <td>treatment</td>\n",
       "      <td>new_page</td>\n",
       "      <td>0</td>\n",
       "    </tr>\n",
       "    <tr>\n",
       "      <th>23</th>\n",
       "      <td>793849</td>\n",
       "      <td>2017-01-23 22:36:10.742811</td>\n",
       "      <td>treatment</td>\n",
       "      <td>new_page</td>\n",
       "      <td>0</td>\n",
       "    </tr>\n",
       "    <tr>\n",
       "      <th>24</th>\n",
       "      <td>905617</td>\n",
       "      <td>2017-01-20 14:12:19.345499</td>\n",
       "      <td>treatment</td>\n",
       "      <td>new_page</td>\n",
       "      <td>0</td>\n",
       "    </tr>\n",
       "    <tr>\n",
       "      <th>25</th>\n",
       "      <td>746742</td>\n",
       "      <td>2017-01-23 11:38:29.592148</td>\n",
       "      <td>control</td>\n",
       "      <td>old_page</td>\n",
       "      <td>0</td>\n",
       "    </tr>\n",
       "    <tr>\n",
       "      <th>26</th>\n",
       "      <td>892356</td>\n",
       "      <td>2017-01-05 09:35:14.904865</td>\n",
       "      <td>treatment</td>\n",
       "      <td>new_page</td>\n",
       "      <td>1</td>\n",
       "    </tr>\n",
       "    <tr>\n",
       "      <th>27</th>\n",
       "      <td>773302</td>\n",
       "      <td>2017-01-12 08:29:49.810594</td>\n",
       "      <td>treatment</td>\n",
       "      <td>new_page</td>\n",
       "      <td>0</td>\n",
       "    </tr>\n",
       "    <tr>\n",
       "      <th>28</th>\n",
       "      <td>913579</td>\n",
       "      <td>2017-01-24 09:11:39.164256</td>\n",
       "      <td>control</td>\n",
       "      <td>old_page</td>\n",
       "      <td>1</td>\n",
       "    </tr>\n",
       "    <tr>\n",
       "      <th>29</th>\n",
       "      <td>736159</td>\n",
       "      <td>2017-01-06 01:50:21.318242</td>\n",
       "      <td>treatment</td>\n",
       "      <td>new_page</td>\n",
       "      <td>0</td>\n",
       "    </tr>\n",
       "    <tr>\n",
       "      <th>30</th>\n",
       "      <td>690284</td>\n",
       "      <td>2017-01-13 17:22:57.182769</td>\n",
       "      <td>control</td>\n",
       "      <td>old_page</td>\n",
       "      <td>0</td>\n",
       "    </tr>\n",
       "    <tr>\n",
       "      <th>...</th>\n",
       "      <td>...</td>\n",
       "      <td>...</td>\n",
       "      <td>...</td>\n",
       "      <td>...</td>\n",
       "      <td>...</td>\n",
       "    </tr>\n",
       "    <tr>\n",
       "      <th>294448</th>\n",
       "      <td>776137</td>\n",
       "      <td>2017-01-12 05:53:12.386730</td>\n",
       "      <td>treatment</td>\n",
       "      <td>new_page</td>\n",
       "      <td>0</td>\n",
       "    </tr>\n",
       "    <tr>\n",
       "      <th>294449</th>\n",
       "      <td>883344</td>\n",
       "      <td>2017-01-22 23:15:58.645325</td>\n",
       "      <td>treatment</td>\n",
       "      <td>new_page</td>\n",
       "      <td>0</td>\n",
       "    </tr>\n",
       "    <tr>\n",
       "      <th>294450</th>\n",
       "      <td>825594</td>\n",
       "      <td>2017-01-06 12:37:08.897784</td>\n",
       "      <td>treatment</td>\n",
       "      <td>new_page</td>\n",
       "      <td>0</td>\n",
       "    </tr>\n",
       "    <tr>\n",
       "      <th>294451</th>\n",
       "      <td>875688</td>\n",
       "      <td>2017-01-14 07:19:49.042869</td>\n",
       "      <td>control</td>\n",
       "      <td>old_page</td>\n",
       "      <td>0</td>\n",
       "    </tr>\n",
       "    <tr>\n",
       "      <th>294452</th>\n",
       "      <td>927527</td>\n",
       "      <td>2017-01-12 10:52:11.084740</td>\n",
       "      <td>control</td>\n",
       "      <td>old_page</td>\n",
       "      <td>0</td>\n",
       "    </tr>\n",
       "    <tr>\n",
       "      <th>294453</th>\n",
       "      <td>789177</td>\n",
       "      <td>2017-01-17 18:17:56.215378</td>\n",
       "      <td>control</td>\n",
       "      <td>old_page</td>\n",
       "      <td>0</td>\n",
       "    </tr>\n",
       "    <tr>\n",
       "      <th>294454</th>\n",
       "      <td>937338</td>\n",
       "      <td>2017-01-19 03:23:22.236666</td>\n",
       "      <td>treatment</td>\n",
       "      <td>new_page</td>\n",
       "      <td>0</td>\n",
       "    </tr>\n",
       "    <tr>\n",
       "      <th>294455</th>\n",
       "      <td>733101</td>\n",
       "      <td>2017-01-23 12:52:58.711914</td>\n",
       "      <td>treatment</td>\n",
       "      <td>new_page</td>\n",
       "      <td>0</td>\n",
       "    </tr>\n",
       "    <tr>\n",
       "      <th>294456</th>\n",
       "      <td>679096</td>\n",
       "      <td>2017-01-02 16:43:49.237940</td>\n",
       "      <td>treatment</td>\n",
       "      <td>new_page</td>\n",
       "      <td>0</td>\n",
       "    </tr>\n",
       "    <tr>\n",
       "      <th>294457</th>\n",
       "      <td>691699</td>\n",
       "      <td>2017-01-09 23:42:35.963486</td>\n",
       "      <td>treatment</td>\n",
       "      <td>new_page</td>\n",
       "      <td>0</td>\n",
       "    </tr>\n",
       "    <tr>\n",
       "      <th>294458</th>\n",
       "      <td>807595</td>\n",
       "      <td>2017-01-22 10:43:09.285426</td>\n",
       "      <td>treatment</td>\n",
       "      <td>new_page</td>\n",
       "      <td>0</td>\n",
       "    </tr>\n",
       "    <tr>\n",
       "      <th>294459</th>\n",
       "      <td>924816</td>\n",
       "      <td>2017-01-20 10:59:03.481635</td>\n",
       "      <td>control</td>\n",
       "      <td>old_page</td>\n",
       "      <td>0</td>\n",
       "    </tr>\n",
       "    <tr>\n",
       "      <th>294460</th>\n",
       "      <td>846225</td>\n",
       "      <td>2017-01-16 15:24:46.705903</td>\n",
       "      <td>treatment</td>\n",
       "      <td>new_page</td>\n",
       "      <td>0</td>\n",
       "    </tr>\n",
       "    <tr>\n",
       "      <th>294461</th>\n",
       "      <td>740310</td>\n",
       "      <td>2017-01-10 17:22:19.762612</td>\n",
       "      <td>control</td>\n",
       "      <td>old_page</td>\n",
       "      <td>0</td>\n",
       "    </tr>\n",
       "    <tr>\n",
       "      <th>294462</th>\n",
       "      <td>677163</td>\n",
       "      <td>2017-01-03 19:41:51.902148</td>\n",
       "      <td>treatment</td>\n",
       "      <td>new_page</td>\n",
       "      <td>0</td>\n",
       "    </tr>\n",
       "    <tr>\n",
       "      <th>294463</th>\n",
       "      <td>832080</td>\n",
       "      <td>2017-01-19 13:18:27.352570</td>\n",
       "      <td>control</td>\n",
       "      <td>old_page</td>\n",
       "      <td>0</td>\n",
       "    </tr>\n",
       "    <tr>\n",
       "      <th>294464</th>\n",
       "      <td>834362</td>\n",
       "      <td>2017-01-17 01:51:56.106436</td>\n",
       "      <td>control</td>\n",
       "      <td>old_page</td>\n",
       "      <td>0</td>\n",
       "    </tr>\n",
       "    <tr>\n",
       "      <th>294465</th>\n",
       "      <td>925675</td>\n",
       "      <td>2017-01-07 20:38:26.346410</td>\n",
       "      <td>treatment</td>\n",
       "      <td>new_page</td>\n",
       "      <td>0</td>\n",
       "    </tr>\n",
       "    <tr>\n",
       "      <th>294466</th>\n",
       "      <td>923948</td>\n",
       "      <td>2017-01-09 16:33:41.104573</td>\n",
       "      <td>control</td>\n",
       "      <td>old_page</td>\n",
       "      <td>0</td>\n",
       "    </tr>\n",
       "    <tr>\n",
       "      <th>294467</th>\n",
       "      <td>857744</td>\n",
       "      <td>2017-01-05 08:00:56.024226</td>\n",
       "      <td>control</td>\n",
       "      <td>old_page</td>\n",
       "      <td>0</td>\n",
       "    </tr>\n",
       "    <tr>\n",
       "      <th>294468</th>\n",
       "      <td>643562</td>\n",
       "      <td>2017-01-02 19:20:05.460595</td>\n",
       "      <td>treatment</td>\n",
       "      <td>new_page</td>\n",
       "      <td>0</td>\n",
       "    </tr>\n",
       "    <tr>\n",
       "      <th>294469</th>\n",
       "      <td>755438</td>\n",
       "      <td>2017-01-18 17:35:06.149568</td>\n",
       "      <td>control</td>\n",
       "      <td>old_page</td>\n",
       "      <td>0</td>\n",
       "    </tr>\n",
       "    <tr>\n",
       "      <th>294470</th>\n",
       "      <td>908354</td>\n",
       "      <td>2017-01-11 02:42:21.195145</td>\n",
       "      <td>control</td>\n",
       "      <td>old_page</td>\n",
       "      <td>0</td>\n",
       "    </tr>\n",
       "    <tr>\n",
       "      <th>294471</th>\n",
       "      <td>718310</td>\n",
       "      <td>2017-01-21 22:44:20.378320</td>\n",
       "      <td>control</td>\n",
       "      <td>old_page</td>\n",
       "      <td>0</td>\n",
       "    </tr>\n",
       "    <tr>\n",
       "      <th>294472</th>\n",
       "      <td>822004</td>\n",
       "      <td>2017-01-04 03:36:46.071379</td>\n",
       "      <td>treatment</td>\n",
       "      <td>new_page</td>\n",
       "      <td>0</td>\n",
       "    </tr>\n",
       "    <tr>\n",
       "      <th>294473</th>\n",
       "      <td>751197</td>\n",
       "      <td>2017-01-03 22:28:38.630509</td>\n",
       "      <td>control</td>\n",
       "      <td>old_page</td>\n",
       "      <td>0</td>\n",
       "    </tr>\n",
       "    <tr>\n",
       "      <th>294474</th>\n",
       "      <td>945152</td>\n",
       "      <td>2017-01-12 00:51:57.078372</td>\n",
       "      <td>control</td>\n",
       "      <td>old_page</td>\n",
       "      <td>0</td>\n",
       "    </tr>\n",
       "    <tr>\n",
       "      <th>294475</th>\n",
       "      <td>734608</td>\n",
       "      <td>2017-01-22 11:45:03.439544</td>\n",
       "      <td>control</td>\n",
       "      <td>old_page</td>\n",
       "      <td>0</td>\n",
       "    </tr>\n",
       "    <tr>\n",
       "      <th>294476</th>\n",
       "      <td>697314</td>\n",
       "      <td>2017-01-15 01:20:28.957438</td>\n",
       "      <td>control</td>\n",
       "      <td>old_page</td>\n",
       "      <td>0</td>\n",
       "    </tr>\n",
       "    <tr>\n",
       "      <th>294477</th>\n",
       "      <td>715931</td>\n",
       "      <td>2017-01-16 12:40:24.467417</td>\n",
       "      <td>treatment</td>\n",
       "      <td>new_page</td>\n",
       "      <td>0</td>\n",
       "    </tr>\n",
       "  </tbody>\n",
       "</table>\n",
       "<p>290585 rows × 5 columns</p>\n",
       "</div>"
      ],
      "text/plain": [
       "        user_id                   timestamp      group landing_page  converted\n",
       "0        851104  2017-01-21 22:11:48.556739    control     old_page          0\n",
       "1        804228  2017-01-12 08:01:45.159739    control     old_page          0\n",
       "2        661590  2017-01-11 16:55:06.154213  treatment     new_page          0\n",
       "3        853541  2017-01-08 18:28:03.143765  treatment     new_page          0\n",
       "4        864975  2017-01-21 01:52:26.210827    control     old_page          1\n",
       "5        936923  2017-01-10 15:20:49.083499    control     old_page          0\n",
       "6        679687  2017-01-19 03:26:46.940749  treatment     new_page          1\n",
       "7        719014  2017-01-17 01:48:29.539573    control     old_page          0\n",
       "8        817355  2017-01-04 17:58:08.979471  treatment     new_page          1\n",
       "9        839785  2017-01-15 18:11:06.610965  treatment     new_page          1\n",
       "10       929503  2017-01-18 05:37:11.527370  treatment     new_page          0\n",
       "11       834487  2017-01-21 22:37:47.774891  treatment     new_page          0\n",
       "12       803683  2017-01-09 06:05:16.222706  treatment     new_page          0\n",
       "13       944475  2017-01-22 01:31:09.573836  treatment     new_page          0\n",
       "14       718956  2017-01-22 11:45:11.327945  treatment     new_page          0\n",
       "15       644214  2017-01-22 02:05:21.719434    control     old_page          1\n",
       "16       847721  2017-01-17 14:01:00.090575    control     old_page          0\n",
       "17       888545  2017-01-08 06:37:26.332945  treatment     new_page          1\n",
       "18       650559  2017-01-24 11:55:51.084801    control     old_page          0\n",
       "19       935734  2017-01-17 20:33:37.428378    control     old_page          0\n",
       "20       740805  2017-01-12 18:59:45.453277  treatment     new_page          0\n",
       "21       759875  2017-01-09 16:11:58.806110  treatment     new_page          0\n",
       "23       793849  2017-01-23 22:36:10.742811  treatment     new_page          0\n",
       "24       905617  2017-01-20 14:12:19.345499  treatment     new_page          0\n",
       "25       746742  2017-01-23 11:38:29.592148    control     old_page          0\n",
       "26       892356  2017-01-05 09:35:14.904865  treatment     new_page          1\n",
       "27       773302  2017-01-12 08:29:49.810594  treatment     new_page          0\n",
       "28       913579  2017-01-24 09:11:39.164256    control     old_page          1\n",
       "29       736159  2017-01-06 01:50:21.318242  treatment     new_page          0\n",
       "30       690284  2017-01-13 17:22:57.182769    control     old_page          0\n",
       "...         ...                         ...        ...          ...        ...\n",
       "294448   776137  2017-01-12 05:53:12.386730  treatment     new_page          0\n",
       "294449   883344  2017-01-22 23:15:58.645325  treatment     new_page          0\n",
       "294450   825594  2017-01-06 12:37:08.897784  treatment     new_page          0\n",
       "294451   875688  2017-01-14 07:19:49.042869    control     old_page          0\n",
       "294452   927527  2017-01-12 10:52:11.084740    control     old_page          0\n",
       "294453   789177  2017-01-17 18:17:56.215378    control     old_page          0\n",
       "294454   937338  2017-01-19 03:23:22.236666  treatment     new_page          0\n",
       "294455   733101  2017-01-23 12:52:58.711914  treatment     new_page          0\n",
       "294456   679096  2017-01-02 16:43:49.237940  treatment     new_page          0\n",
       "294457   691699  2017-01-09 23:42:35.963486  treatment     new_page          0\n",
       "294458   807595  2017-01-22 10:43:09.285426  treatment     new_page          0\n",
       "294459   924816  2017-01-20 10:59:03.481635    control     old_page          0\n",
       "294460   846225  2017-01-16 15:24:46.705903  treatment     new_page          0\n",
       "294461   740310  2017-01-10 17:22:19.762612    control     old_page          0\n",
       "294462   677163  2017-01-03 19:41:51.902148  treatment     new_page          0\n",
       "294463   832080  2017-01-19 13:18:27.352570    control     old_page          0\n",
       "294464   834362  2017-01-17 01:51:56.106436    control     old_page          0\n",
       "294465   925675  2017-01-07 20:38:26.346410  treatment     new_page          0\n",
       "294466   923948  2017-01-09 16:33:41.104573    control     old_page          0\n",
       "294467   857744  2017-01-05 08:00:56.024226    control     old_page          0\n",
       "294468   643562  2017-01-02 19:20:05.460595  treatment     new_page          0\n",
       "294469   755438  2017-01-18 17:35:06.149568    control     old_page          0\n",
       "294470   908354  2017-01-11 02:42:21.195145    control     old_page          0\n",
       "294471   718310  2017-01-21 22:44:20.378320    control     old_page          0\n",
       "294472   822004  2017-01-04 03:36:46.071379  treatment     new_page          0\n",
       "294473   751197  2017-01-03 22:28:38.630509    control     old_page          0\n",
       "294474   945152  2017-01-12 00:51:57.078372    control     old_page          0\n",
       "294475   734608  2017-01-22 11:45:03.439544    control     old_page          0\n",
       "294476   697314  2017-01-15 01:20:28.957438    control     old_page          0\n",
       "294477   715931  2017-01-16 12:40:24.467417  treatment     new_page          0\n",
       "\n",
       "[290585 rows x 5 columns]"
      ]
     },
     "execution_count": 15,
     "metadata": {},
     "output_type": "execute_result"
    }
   ],
   "source": [
    "df2[((df2['group'] == 'treatment') == (df2['landing_page'] == 'new_page')) ]"
   ]
  },
  {
   "cell_type": "code",
   "execution_count": 16,
   "metadata": {},
   "outputs": [
    {
     "data": {
      "text/plain": [
       "0"
      ]
     },
     "execution_count": 16,
     "metadata": {},
     "output_type": "execute_result"
    }
   ],
   "source": [
    "# Double Check all of the correct rows were removed - this should be 0\n",
    "df2[((df2['group'] == 'treatment') == (df2['landing_page'] == 'new_page')) == False].shape[0]"
   ]
  },
  {
   "cell_type": "markdown",
   "metadata": {},
   "source": [
    "`3.` Use **df2** and the cells below to answer questions for **Quiz3** in the classroom."
   ]
  },
  {
   "cell_type": "markdown",
   "metadata": {},
   "source": [
    "a. How many unique **user_id**s are in **df2**?"
   ]
  },
  {
   "cell_type": "code",
   "execution_count": 17,
   "metadata": {},
   "outputs": [
    {
     "data": {
      "text/plain": [
       "290584"
      ]
     },
     "execution_count": 17,
     "metadata": {},
     "output_type": "execute_result"
    }
   ],
   "source": [
    "df2.nunique()[0]"
   ]
  },
  {
   "cell_type": "markdown",
   "metadata": {
    "collapsed": true
   },
   "source": [
    "b. There is one **user_id** repeated in **df2**.  What is it?"
   ]
  },
  {
   "cell_type": "code",
   "execution_count": 18,
   "metadata": {},
   "outputs": [],
   "source": [
    "df2[\"dupl\"] = df2.duplicated(\"user_id\")"
   ]
  },
  {
   "cell_type": "code",
   "execution_count": 19,
   "metadata": {},
   "outputs": [
    {
     "data": {
      "text/plain": [
       "(array([2862]),)"
      ]
     },
     "execution_count": 19,
     "metadata": {},
     "output_type": "execute_result"
    }
   ],
   "source": [
    "np.nonzero(df2.dupl)"
   ]
  },
  {
   "cell_type": "code",
   "execution_count": 20,
   "metadata": {},
   "outputs": [
    {
     "data": {
      "text/plain": [
       "(array([1876, 2862]),)"
      ]
     },
     "execution_count": 20,
     "metadata": {},
     "output_type": "execute_result"
    }
   ],
   "source": [
    "np.nonzero(df2.user_id==773192)"
   ]
  },
  {
   "cell_type": "markdown",
   "metadata": {},
   "source": [
    "c. What is the row information for the repeat **user_id**? "
   ]
  },
  {
   "cell_type": "code",
   "execution_count": 21,
   "metadata": {},
   "outputs": [
    {
     "data": {
      "text/plain": [
       "user_id                             773192\n",
       "timestamp       2017-01-14 02:55:59.590927\n",
       "group                            treatment\n",
       "landing_page                      new_page\n",
       "converted                                0\n",
       "dupl                                  True\n",
       "Name: 2893, dtype: object"
      ]
     },
     "execution_count": 21,
     "metadata": {},
     "output_type": "execute_result"
    }
   ],
   "source": [
    "df2.iloc[2862]"
   ]
  },
  {
   "cell_type": "markdown",
   "metadata": {},
   "source": [
    "d. Remove **one** of the rows with a duplicate **user_id**, but keep your dataframe as **df2**."
   ]
  },
  {
   "cell_type": "code",
   "execution_count": 22,
   "metadata": {},
   "outputs": [],
   "source": [
    "df2.drop_duplicates(\"user_id\",inplace=True)"
   ]
  },
  {
   "cell_type": "markdown",
   "metadata": {},
   "source": [
    "`4.` Use **df2** in the cells below to answer the quiz questions related to **Quiz 4** in the classroom.\n",
    "\n",
    "a. What is the probability of an individual converting regardless of the page they receive?"
   ]
  },
  {
   "cell_type": "code",
   "execution_count": 23,
   "metadata": {},
   "outputs": [
    {
     "data": {
      "text/plain": [
       "0.11959708724499628"
      ]
     },
     "execution_count": 23,
     "metadata": {},
     "output_type": "execute_result"
    }
   ],
   "source": [
    "df2.converted.sum()/df2.converted.count()"
   ]
  },
  {
   "cell_type": "markdown",
   "metadata": {},
   "source": [
    "b. Given that an individual was in the `control` group, what is the probability they converted?"
   ]
  },
  {
   "cell_type": "code",
   "execution_count": 24,
   "metadata": {},
   "outputs": [
    {
     "data": {
      "text/plain": [
       "0.1203863045004612"
      ]
     },
     "execution_count": 24,
     "metadata": {},
     "output_type": "execute_result"
    }
   ],
   "source": [
    "df2.groupby([\"group\"]).sum()['converted'][0]/df2.groupby([\"group\"]).count()[\"user_id\"][0]\n"
   ]
  },
  {
   "cell_type": "markdown",
   "metadata": {},
   "source": [
    "c. Given that an individual was in the `treatment` group, what is the probability they converted?"
   ]
  },
  {
   "cell_type": "code",
   "execution_count": 25,
   "metadata": {},
   "outputs": [
    {
     "data": {
      "text/plain": [
       "0.11880806551510564"
      ]
     },
     "execution_count": 25,
     "metadata": {},
     "output_type": "execute_result"
    }
   ],
   "source": [
    "df2.groupby([\"group\"]).sum()['converted'][1]/df2.groupby([\"group\"]).count()[\"user_id\"][1]\n",
    "\n"
   ]
  },
  {
   "cell_type": "markdown",
   "metadata": {},
   "source": [
    "d. What is the probability that an individual received the new page?"
   ]
  },
  {
   "cell_type": "code",
   "execution_count": 26,
   "metadata": {},
   "outputs": [
    {
     "data": {
      "text/plain": [
       "0.50006194422266881"
      ]
     },
     "execution_count": 26,
     "metadata": {},
     "output_type": "execute_result"
    }
   ],
   "source": [
    "df2.groupby(\"landing_page\").count()[\"user_id\"][0]/df2.count()[0]"
   ]
  },
  {
   "cell_type": "markdown",
   "metadata": {},
   "source": [
    "e. Consider your results from parts (a) through (d) above, and explain below whether you think there is sufficient evidence to conclude that the new treatment page leads to more conversions."
   ]
  },
  {
   "cell_type": "markdown",
   "metadata": {},
   "source": [
    "**The new page lower the conversion by 0.157%. However, we need to investigate the statistical analaysis (confidence intervals and standard deviation) to conclude whether this is valid statistically**"
   ]
  },
  {
   "cell_type": "markdown",
   "metadata": {},
   "source": [
    "<a id='ab_test'></a>\n",
    "### Part II - A/B Test\n",
    "\n",
    "Notice that because of the time stamp associated with each event, you could technically run a hypothesis test continuously as each observation was observed.  \n",
    "\n",
    "However, then the hard question is do you stop as soon as one page is considered significantly better than another or does it need to happen consistently for a certain amount of time?  How long do you run to render a decision that neither page is better than another?  \n",
    "\n",
    "These questions are the difficult parts associated with A/B tests in general.  \n",
    "\n",
    "\n",
    "`1.` For now, consider you need to make the decision just based on all the data provided.  If you want to assume that the old page is better unless the new page proves to be definitely better at a Type I error rate of 5%, what should your null and alternative hypotheses be?  You can state your hypothesis in terms of words or in terms of **$p_{old}$** and **$p_{new}$**, which are the converted rates for the old and new pages."
   ]
  },
  {
   "cell_type": "markdown",
   "metadata": {},
   "source": [
    ">Null : Pnew <= Pold\n",
    "\n",
    ">Alternative : Pold < Pnew"
   ]
  },
  {
   "cell_type": "markdown",
   "metadata": {},
   "source": [
    "`2.` Assume under the null hypothesis, $p_{new}$ and $p_{old}$ both have \"true\" success rates equal to the **converted** success rate regardless of page - that is $p_{new}$ and $p_{old}$ are equal. Furthermore, assume they are equal to the **converted** rate in **ab_data.csv** regardless of the page. <br><br>\n",
    "\n",
    "Use a sample size for each page equal to the ones in **ab_data.csv**.  <br><br>\n",
    "\n",
    "Perform the sampling distribution for the difference in **converted** between the two pages over 10,000 iterations of calculating an estimate from the null.  <br><br>\n",
    "\n",
    "Use the cells below to provide the necessary parts of this simulation.  If this doesn't make complete sense right now, don't worry - you are going to work through the problems below to complete this problem.  You can use **Quiz 5** in the classroom to make sure you are on the right track.<br><br>"
   ]
  },
  {
   "cell_type": "markdown",
   "metadata": {},
   "source": [
    "a. What is the **conversion rate** for $p_{new}$ under the null? "
   ]
  },
  {
   "cell_type": "code",
   "execution_count": 27,
   "metadata": {
    "scrolled": true
   },
   "outputs": [
    {
     "data": {
      "text/plain": [
       "0.11959708724499628"
      ]
     },
     "execution_count": 27,
     "metadata": {},
     "output_type": "execute_result"
    }
   ],
   "source": [
    "pnew = df2.groupby([\"converted\"]).count()[\"user_id\"][1]/df2.count()[\"user_id\"]\n",
    "pnew"
   ]
  },
  {
   "cell_type": "markdown",
   "metadata": {},
   "source": [
    "b. What is the **conversion rate** for $p_{old}$ under the null? <br><br>"
   ]
  },
  {
   "cell_type": "code",
   "execution_count": 28,
   "metadata": {},
   "outputs": [
    {
     "data": {
      "text/plain": [
       "0.11959708724499628"
      ]
     },
     "execution_count": 28,
     "metadata": {},
     "output_type": "execute_result"
    }
   ],
   "source": [
    "pold = pnew\n",
    "pold"
   ]
  },
  {
   "cell_type": "code",
   "execution_count": 29,
   "metadata": {},
   "outputs": [],
   "source": [
    "p_diff = pnew-pold"
   ]
  },
  {
   "cell_type": "markdown",
   "metadata": {},
   "source": [
    "c. What is $n_{new}$, the number of individuals in the treatment group?"
   ]
  },
  {
   "cell_type": "code",
   "execution_count": 30,
   "metadata": {},
   "outputs": [
    {
     "data": {
      "text/plain": [
       "145310"
      ]
     },
     "execution_count": 30,
     "metadata": {},
     "output_type": "execute_result"
    }
   ],
   "source": [
    "n_new = df2.query(\"group == 'treatment'\").count()[0]\n",
    "n_new"
   ]
  },
  {
   "cell_type": "markdown",
   "metadata": {},
   "source": [
    "d. What is $n_{old}$, the number of individuals in the control group?"
   ]
  },
  {
   "cell_type": "code",
   "execution_count": 31,
   "metadata": {},
   "outputs": [
    {
     "data": {
      "text/plain": [
       "145274"
      ]
     },
     "execution_count": 31,
     "metadata": {},
     "output_type": "execute_result"
    }
   ],
   "source": [
    "n_old =  df2.query(\"group == 'control'\").count()[0]\n",
    "n_old"
   ]
  },
  {
   "cell_type": "markdown",
   "metadata": {},
   "source": [
    "e. Simulate $n_{new}$ transactions with a conversion rate of $p_{new}$ under the null.  Store these $n_{new}$ 1's and 0's in **new_page_converted**."
   ]
  },
  {
   "cell_type": "code",
   "execution_count": 32,
   "metadata": {},
   "outputs": [
    {
     "data": {
      "text/plain": [
       "array([0, 0, 0, ..., 0, 0, 1])"
      ]
     },
     "execution_count": 32,
     "metadata": {},
     "output_type": "execute_result"
    }
   ],
   "source": [
    "new_page_converted = np.random.choice([0,1],size=n_new,p=[1-pnew,pnew])\n",
    "new_page_converted"
   ]
  },
  {
   "cell_type": "markdown",
   "metadata": {},
   "source": [
    "f. Simulate $n_{old}$ transactions with a conversion rate of $p_{old}$ under the null.  Store these $n_{old}$ 1's and 0's in **old_page_converted**."
   ]
  },
  {
   "cell_type": "code",
   "execution_count": 33,
   "metadata": {},
   "outputs": [
    {
     "data": {
      "text/plain": [
       "array([0, 0, 0, ..., 1, 0, 0])"
      ]
     },
     "execution_count": 33,
     "metadata": {},
     "output_type": "execute_result"
    }
   ],
   "source": [
    "old_page_converted = np.random.choice([0,1],size=n_old,p=[1-pold,pold])\n",
    "old_page_converted"
   ]
  },
  {
   "cell_type": "markdown",
   "metadata": {},
   "source": [
    "g. Find $p_{new}$ - $p_{old}$ for your simulated values from part (e) and (f)."
   ]
  },
  {
   "cell_type": "code",
   "execution_count": 34,
   "metadata": {},
   "outputs": [
    {
     "data": {
      "text/plain": [
       "0.00081017008235810539"
      ]
     },
     "execution_count": 34,
     "metadata": {},
     "output_type": "execute_result"
    }
   ],
   "source": [
    "pnew = np.sum(new_page_converted)/new_page_converted.shape[0]\n",
    "\n",
    "pold = np.sum(old_page_converted)/old_page_converted.shape[0]\n",
    "\n",
    "pnew - pold"
   ]
  },
  {
   "cell_type": "markdown",
   "metadata": {},
   "source": [
    "h. Create 10,000 $p_{new}$ - $p_{old}$ values using the same simulation process you used in parts (a) through (g) above. Store all 10,000 values in a NumPy array called **p_diffs**."
   ]
  },
  {
   "cell_type": "code",
   "execution_count": 35,
   "metadata": {},
   "outputs": [],
   "source": [
    "p_diffs = []\n",
    "\n",
    "n_new = df2.query(\"group == 'treatment'\").count()[0]\n",
    "n_old =  df2.query(\"group == 'control'\").count()[0]\n",
    "\n",
    "for _ in range(10000):\n",
    "    new_page_converted = np.random.choice([0,1],size=n_new,p=[1-pnew,pnew])\n",
    "    old_page_converted = np.random.choice([0,1],size=n_old,p=[1-pold,pold])\n",
    "    pnew1 = np.sum(new_page_converted)/new_page_converted.shape[0]\n",
    "    pold1 = np.sum(old_page_converted)/old_page_converted.shape[0]\n",
    "    p_diffs.append(pnew1 - pold1)\n",
    "\n",
    "\n",
    "\n",
    "\n",
    "    \n",
    "    "
   ]
  },
  {
   "cell_type": "markdown",
   "metadata": {},
   "source": [
    "i. Plot a histogram of the **p_diffs**.  Does this plot look like what you expected?  Use the matching problem in the classroom to assure you fully understand what was computed here."
   ]
  },
  {
   "cell_type": "code",
   "execution_count": 36,
   "metadata": {},
   "outputs": [
    {
     "data": {
      "image/png": "[encoded data removed]",
      "text/plain": [
       "<matplotlib.figure.Figure at 0x7fb1bcce9710>"
      ]
     },
     "metadata": {
      "needs_background": "light"
     },
     "output_type": "display_data"
    }
   ],
   "source": [
    "plt.hist(p_diffs);"
   ]
  },
  {
   "cell_type": "markdown",
   "metadata": {},
   "source": [
    "j. What proportion of the **p_diffs** are greater than the actual difference observed in **ab_data.csv**?"
   ]
  },
  {
   "cell_type": "code",
   "execution_count": 37,
   "metadata": {
    "scrolled": true
   },
   "outputs": [
    {
     "data": {
      "text/plain": [
       "[0.00035581864702659283,\n",
       " 0.0022210800609701181,\n",
       " 0.00078271776341247434,\n",
       " 0.0015950987656994653,\n",
       " -0.00022228139504806843,\n",
       " -0.00064197294657322712,\n",
       " 0.001553609909594772,\n",
       " 0.0016982649547210016,\n",
       " 0.0010576383045220322,\n",
       " 0.0017532957901330443,\n",
       " 0.00057621655355107049,\n",
       " 0.00098237294725650459,\n",
       " 0.0011336386770775669,\n",
       " 0.002103848343467149,\n",
       " 0.0011613502125523978,\n",
       " 0.00026660713731282981,\n",
       " -0.00022916834999110736,\n",
       " 0.0026206138323774386,\n",
       " -0.0017432513391122673,\n",
       " 0.0003488396020008,\n",
       " -0.0014197264671200055,\n",
       " 0.0012574691416720324,\n",
       " 0.0024551188583722822,\n",
       " 0.0013884645368296561,\n",
       " 0.00025951894848527668,\n",
       " 0.00065879350336338349,\n",
       " 0.0011953484120605234,\n",
       " 0.00028717079594349493,\n",
       " 0.00075529273041730072,\n",
       " 0.00035586298669605665,\n",
       " -0.00016719087161944091,\n",
       " 0.0029438215051957872,\n",
       " -0.00028411221143612164,\n",
       " -0.00093795852565281557,\n",
       " -0.00040099944381473407,\n",
       " -0.00028420771226266017,\n",
       " -0.0017846481051342344,\n",
       " 0.00030109136781321377,\n",
       " 0.0008996510408324776,\n",
       " 0.00019767619449390095,\n",
       " 0.0017807532251943731,\n",
       " 0.0010028121137383023,\n",
       " 0.0016361203499028615,\n",
       " -0.001392294612637221,\n",
       " 0.00017692665032584265,\n",
       " 0.00012849797274910868,\n",
       " 0.00060358530927345777,\n",
       " 0.00025280423610439529,\n",
       " 0.0020973144005079492,\n",
       " 7.377580965144126e-05,\n",
       " 0.0013953378487974732,\n",
       " 7.3315359237727251e-05,\n",
       " -3.6319968610698528e-05,\n",
       " 0.00061733704932481759,\n",
       " -0.00027022063088875947,\n",
       " 0.00073448349823264369,\n",
       " 0.0013744945091747618,\n",
       " 0.00059685183780167073,\n",
       " 0.00063812581704664195,\n",
       " 0.00067911499918388296,\n",
       " -0.0019980294484510663,\n",
       " 0.0019387149083053695,\n",
       " 0.00024580131587197129,\n",
       " 0.002179797554865609,\n",
       " 0.0012989443548015178,\n",
       " 0.0012437498036868277,\n",
       " 0.0011132455556371601,\n",
       " 0.0017254068959803304,\n",
       " 0.0012094224674014803,\n",
       " 0.00047295827444679417,\n",
       " 0.0011680598088175675,\n",
       " -4.3339942562156675e-05,\n",
       " 0.0010097263546317847,\n",
       " 0.0012987038973632375,\n",
       " 0.0022003970263062417,\n",
       " 0.0011955871641269045,\n",
       " 0.0018010900693620074,\n",
       " 0.00023229685474651651,\n",
       " 2.538806100035873e-05,\n",
       " 0.0023655782118813112,\n",
       " 0.00085840946365364768,\n",
       " 0.0028267995484368424,\n",
       " 0.0011680291121233116,\n",
       " 0.0035427819406121663,\n",
       " 0.00075502669240049003,\n",
       " 0.0013126688089024341,\n",
       " 5.30347923428931e-05,\n",
       " 0.0011958651397470238,\n",
       " 0.00025260641296369346,\n",
       " -0.00089650377698616279,\n",
       " 0.0019180421058729302,\n",
       " 0.0016429152147631604,\n",
       " 0.0015947525752032371,\n",
       " 0.0023794049882963769,\n",
       " 0.0026615501479856779,\n",
       " 3.9288168407231039e-05,\n",
       " 0.00088590271152494404,\n",
       " -0.00010511959779310742,\n",
       " -0.00040830250950203706,\n",
       " -0.0011102671236091904,\n",
       " 0.0022072669275302742,\n",
       " 0.00040385849980952016,\n",
       " 0.00086532029380331776,\n",
       " 0.0017120218108880453,\n",
       " 0.00048668443391960969,\n",
       " 0.0018287692027706692,\n",
       " 0.0005280198065530789,\n",
       " 0.00061755363155645282,\n",
       " 0.00028015764347966154,\n",
       " 0.0018700875216851182,\n",
       " 0.0029574214671478083,\n",
       " 4.6059158060912653e-05,\n",
       " 0.0010442481033140216,\n",
       " 0.00071384309786635958,\n",
       " -0.00024956317680342732,\n",
       " -2.9378441766772512e-05,\n",
       " -0.00041495923923821898,\n",
       " -0.0017362620618550512,\n",
       " 1.8857528784971267e-05,\n",
       " 0.00025257742164135066,\n",
       " -0.0003527532410315809,\n",
       " 0.00101676167693035,\n",
       " 0.00072068230239610842,\n",
       " 0.001815044748669753,\n",
       " 0.0011472829786990518,\n",
       " 0.0020696693745373418,\n",
       " 0.0019805431334187079,\n",
       " 0.0015400696356593357,\n",
       " 0.0012921085610155536,\n",
       " -0.00055921522733923257,\n",
       " 0.00136044432904045,\n",
       " 0.00094784778783046919,\n",
       " 0.00087889808592060692,\n",
       " -0.00038061996534954901,\n",
       " 0.0015672371574972088,\n",
       " 0.0012504252925139431,\n",
       " 0.00041793767126617476,\n",
       " 0.00054210750486927139,\n",
       " 0.0014296924710332642,\n",
       " -0.00066244792586497847,\n",
       " 0.0027992943629622374,\n",
       " 0.0025238553887943077,\n",
       " -0.00069030100720771093,\n",
       " 0.0012642861763670493,\n",
       " -5.0245656596115129e-05,\n",
       " -0.00097221935243396729,\n",
       " 0.0025101684528752582,\n",
       " 0.00074833414985435442,\n",
       " 0.0037558750760774695,\n",
       " 0.0007068180077991898,\n",
       " -0.00058007050456526654,\n",
       " 0.0011404488902850007,\n",
       " 0.0010784270722438566,\n",
       " 0.0010029331951433851,\n",
       " 0.00028718784966252908,\n",
       " 0.00117506613979379,\n",
       " 0.002352015768111157,\n",
       " 0.0019254304401553485,\n",
       " 0.0010785413321613285,\n",
       " 0.00095457614318655848,\n",
       " 0.0015328160257572221,\n",
       " -0.00069711463115894323,\n",
       " 0.0031160346023256097,\n",
       " 0.00029362458642327727,\n",
       " -0.00039448255457456838,\n",
       " 0.00039041202132875097,\n",
       " 0.0017736786793420278,\n",
       " 0.0016981029443902534,\n",
       " 0.0012370777256035109,\n",
       " -2.2605746741205524e-05,\n",
       " 0.00093428534406030106,\n",
       " 0.0016567334643187159,\n",
       " 0.00021826713907502349,\n",
       " 0.0024068828878205384,\n",
       " 0.0024277023522366048,\n",
       " 0.00016278608548069007,\n",
       " -0.00024984967928307067,\n",
       " 0.0014640078697153031,\n",
       " 0.0019526798198445522,\n",
       " 0.0026755372293596064,\n",
       " 0.00098233883981846404,\n",
       " 0.00014259078718097118,\n",
       " 0.0028334204653630707,\n",
       " 9.4139939769505299e-05,\n",
       " 0.00019053854988117236,\n",
       " 0.00095471768905447396,\n",
       " 0.0035355726703795304,\n",
       " 0.001346975680724935,\n",
       " -5.7258809059948512e-05,\n",
       " 0.0020836632773988673,\n",
       " 0.0016637807242206037,\n",
       " 0.0030125495087582888,\n",
       " 0.00029402705419230568,\n",
       " -0.0012203322051770882,\n",
       " -0.00093804208887604545,\n",
       " 0.0012300799214868124,\n",
       " 0.0020905110087881401,\n",
       " 0.00031454807852540623,\n",
       " 0.0026962373177424892,\n",
       " 0.00098232519684324227,\n",
       " 0.0026411860178676139,\n",
       " 0.0020145549759020692,\n",
       " -0.00060779738838720454,\n",
       " 0.00079644392288528987,\n",
       " 0.0052081306595543747,\n",
       " 0.00014946409914880221,\n",
       " 0.0033502422315461328,\n",
       " 0.00085142530251215709,\n",
       " 0.00089284082762505768,\n",
       " 0.00040412283245441771,\n",
       " 0.001601562788410657,\n",
       " 0.001870140388214106,\n",
       " 0.00044546843731932406,\n",
       " 0.0013673636860496441,\n",
       " -0.00041484839006454555,\n",
       " 0.0020906491439122571,\n",
       " 0.00068615884834195839,\n",
       " 0.00095466823326929851,\n",
       " 0.00036283521023422471,\n",
       " 0.00089278966646798297,\n",
       " 0.0031020270564888625,\n",
       " 0.0011131193581163518,\n",
       " 0.0013401262439637629,\n",
       " 0.00085841116902554693,\n",
       " -0.0012132713022999647,\n",
       " 0.0013812586773408186,\n",
       " 0.0015463409513455373,\n",
       " 0.0018358693292015449,\n",
       " 0.00050737940618679478,\n",
       " -0.00046322590648420481,\n",
       " 0.00015634423260423025,\n",
       " -0.00079377757391552173,\n",
       " 0.00093437913951495422,\n",
       " 0.0034324661693745928,\n",
       " -0.00044924053048218948,\n",
       " 0.0018975773588126021,\n",
       " 0.0028267466819078685,\n",
       " -0.0012341606869640531,\n",
       " 0.0010924806631219669,\n",
       " 0.00050047880826853408,\n",
       " 0.0010164427723845654,\n",
       " 0.0012988335056278444,\n",
       " 0.0006241830753421912,\n",
       " -0.00079369742143609034,\n",
       " -0.0023901987607825997,\n",
       " 0.00094762608948312232,\n",
       " 0.001464152826327017,\n",
       " -0.00039418923060731414,\n",
       " 0.00092052848789324349,\n",
       " -0.00058016941613563133,\n",
       " -0.0017501468209148163,\n",
       " -0.00086927315638787861,\n",
       " -9.1407081295527548e-05,\n",
       " -0.00058045250787144842,\n",
       " 0.00070703459003082503,\n",
       " 0.0016428555267465617,\n",
       " -9.2820550374045352e-06,\n",
       " 0.00083808796783314821,\n",
       " 0.0022347294787073146,\n",
       " 0.0041618899239149881,\n",
       " -0.00025651664125067586,\n",
       " 0.000934322862242154,\n",
       " -0.0011374943334636622,\n",
       " -0.0028237597230203887,\n",
       " 0.0019180216414100837,\n",
       " -0.00024278707103404795,\n",
       " 0.00067948677025865545,\n",
       " 0.0025307900941506228,\n",
       " 0.0017809510483350749,\n",
       " 0.0022763291839856953,\n",
       " 0.00023889901258179747,\n",
       " -0.0011377364962738418,\n",
       " 0.00076870510146002935,\n",
       " -0.0016746358900953245,\n",
       " -0.00031853504854800763,\n",
       " 0.0035633131971766902,\n",
       " 0.00025942856377443591,\n",
       " 0.0019663821041107227,\n",
       " 0.00059680408738838064,\n",
       " 0.0010922248573365656,\n",
       " -0.00063522242138239204,\n",
       " 0.00011509412856587631,\n",
       " 6.7004819997773524e-05,\n",
       " 0.00010814919097815179,\n",
       " 3.2515473381677928e-05,\n",
       " 0.0023655748011375127,\n",
       " 0.00025962468154323848,\n",
       " 0.0030537910859371187,\n",
       " -0.00085529289650157492,\n",
       " 0.00099588934598529577,\n",
       " 0.0035289943877508667,\n",
       " 0.00046615999884269677,\n",
       " 0.00034219310449602747,\n",
       " 0.00027313425878440489,\n",
       " 0.00069992934748423774,\n",
       " 0.00093402783290300051,\n",
       " 0.00086516339958828126,\n",
       " 0.0031705879336049181,\n",
       " 0.0012230565367915419,\n",
       " 0.0017598399653236535,\n",
       " -0.0010138378168032813,\n",
       " -5.0083646265366988e-05,\n",
       " 0.0013057596841246494,\n",
       " 0.0010993062246765078,\n",
       " -0.0010343247336983413,\n",
       " 0.0020144543589598052,\n",
       " 0.00057603066801369118,\n",
       " 0.0013124812179931278,\n",
       " 0.0021452996813900033,\n",
       " 0.001339981287352035,\n",
       " 0.0019665935702266601,\n",
       " 0.00082401561786409061,\n",
       " 0.00083758999923756738,\n",
       " -2.928976242783099e-05,\n",
       " -0.00014660845389782851,\n",
       " 0.0013540092976516149,\n",
       " 0.00012892431572476826,\n",
       " -0.00066970835725468914,\n",
       " 0.0016291720015713246,\n",
       " -0.00010523726845440562,\n",
       " 0.00036306202469726934,\n",
       " 0.0015188766947965837,\n",
       " -0.001179225352378549,\n",
       " 0.0015052289824313003,\n",
       " 0.0013058449527197785,\n",
       " 0.0019114911091946962,\n",
       " 0.00043833249807849473,\n",
       " 0.0017600821281338191,\n",
       " 0.0010580936388200346,\n",
       " 0.0017462007798178802,\n",
       " 0.001663859171328122,\n",
       " -8.4675315195625878e-05,\n",
       " 0.0020283152428129253,\n",
       " 0.00074147107011793278,\n",
       " 0.0014846295109906676,\n",
       " -0.0012064542676049339,\n",
       " 0.00089271292473235009,\n",
       " -0.0019633610377852023,\n",
       " 0.002586030690306676,\n",
       " 0.00044538828483989268,\n",
       " 0.0013124112977451335,\n",
       " 0.0013815724657709055,\n",
       " -0.00093801991904131354,\n",
       " 0.00066551162648804951,\n",
       " 0.0018699869047428541,\n",
       " 0.00041107970764547863,\n",
       " 0.00066591750500089031,\n",
       " 0.001278106131294518,\n",
       " 0.0015189960708297673,\n",
       " 0.0026133465795000893,\n",
       " 0.00061051830925787365,\n",
       " 0.0031708624984812389,\n",
       " -0.001695455354511391,\n",
       " 0.001711951890640051,\n",
       " 0.00024583371793811259,\n",
       " 0.00041775178572878158,\n",
       " 0.0021247104421807939,\n",
       " 0.0010027268451431731,\n",
       " -0.00047709702256873432,\n",
       " 0.0030537620946147759,\n",
       " 0.0020695431770165335,\n",
       " 0.00022531951509262294,\n",
       " 0.0030471309454571244,\n",
       " -0.0014265861361126009,\n",
       " -0.00097947296233608094,\n",
       " 0.00051410776154289795,\n",
       " 0.0012919994172137933,\n",
       " 0.00022509099525766518,\n",
       " 0.0031158384845568071,\n",
       " 0.00023883761919329949,\n",
       " 0.00023190802995270987,\n",
       " 0.0011269393130438204,\n",
       " -0.00050423555308427848,\n",
       " -0.00051145335017642457,\n",
       " 0.0034805384242236892,\n",
       " 0.0016016037173363223,\n",
       " 0.0019458866603561525,\n",
       " 0.0015881146045579747,\n",
       " -0.00044226830694400754,\n",
       " 0.00084445819508968678,\n",
       " 0.00049344519134185416,\n",
       " -0.0005113203311680331,\n",
       " -0.00023587283014057936,\n",
       " 0.00034909540778620129,\n",
       " 0.0001425549743710175,\n",
       " 0.00064512362116335431,\n",
       " -0.0015778672142807842,\n",
       " 0.0019528315979438909,\n",
       " 0.00056243752754926712,\n",
       " 0.00072077439247886232,\n",
       " 0.0016840442373964176,\n",
       " 0.00047306400750475597,\n",
       " 0.0016362516635393676,\n",
       " -0.00043553313010030736,\n",
       " 0.00054881539576252802,\n",
       " 0.00034211977350420697,\n",
       " 0.0017600599582990872,\n",
       " 0.00056216807878865793,\n",
       " 0.00073427544286053248,\n",
       " 0.00030793227771488962,\n",
       " 0.0013884935281519989,\n",
       " 0.0029852131551020566,\n",
       " 0.0013058841762735446,\n",
       " 0.0024344903956093067,\n",
       " 0.00042497981505236482,\n",
       " 4.6274034920648632e-05,\n",
       " 0.0010301723426011794,\n",
       " -0.00017414433606667556,\n",
       " -0.00052533810923618973,\n",
       " -0.0018119793426747688,\n",
       " -0.00018104152324113776,\n",
       " 0.00067261175291893904,\n",
       " -0.0013234881619671873,\n",
       " 0.00025968095881601094,\n",
       " 0.0010717839854828826,\n",
       " -2.0045699286597163e-06,\n",
       " 0.00082400026951696959,\n",
       " 0.0012578613772096375,\n",
       " 1.8581258536737311e-05,\n",
       " 0.00225580133816497,\n",
       " 0.0022278834526899272,\n",
       " 0.0011199585626461284,\n",
       " 0.0015329575716251376,\n",
       " 0.00012876571613781862,\n",
       " 0.00083760705295660154,\n",
       " 0.00019083698996413823,\n",
       " 0.0012781419441044717,\n",
       " 0.0014022589111785666,\n",
       " -0.00059391774544317877,\n",
       " -0.0011031363004840866,\n",
       " 0.0017601145301999743,\n",
       " -0.00084836671800476993,\n",
       " 0.00057632058123713303,\n",
       " 0.0038660083725214622,\n",
       " -0.00047695206595702033,\n",
       " -0.00051813054437545303,\n",
       " 0.0018563852374189477,\n",
       " 0.0019458218562238422,\n",
       " 0.0030126347773534318,\n",
       " 0.0012574947222505628,\n",
       " 0.0012506504016050884,\n",
       " 0.0016085878784778268,\n",
       " 0.001092397099898737,\n",
       " 0.00067265438721648974,\n",
       " 0.0018767715373717436,\n",
       " 0.00085143894548737886,\n",
       " 0.0022142033382584886,\n",
       " 0.001725458057137419,\n",
       " 0.0009273779246544156,\n",
       " -0.0011444136904728563,\n",
       " 0.0031297726994017339,\n",
       " 0.0019250603744524752,\n",
       " -0.0011995758395214051,\n",
       " -0.00018782445049811414,\n",
       " -0.00054590688398256648,\n",
       " -0.0018465369041669594,\n",
       " 0.00069323851031000139,\n",
       " 0.0011338961882348675,\n",
       " -0.00024963139167953619,\n",
       " 0.0019455507020913337,\n",
       " 0.00011507366410305753,\n",
       " 0.00054227122057191879,\n",
       " -0.00010523215233868011,\n",
       " -0.0014748050529453244,\n",
       " 0.0016221861350579209,\n",
       " 0.001656748812665837,\n",
       " 0.0014708914139145296,\n",
       " -0.00043567979208393448,\n",
       " -0.00032563517497888328,\n",
       " 0.0020424694506333135,\n",
       " 0.00011489118930947673,\n",
       " 0.0012849521573119055,\n",
       " -0.00027727982839395593,\n",
       " 0.0014089446322371052,\n",
       " -0.00037374324263793335,\n",
       " -0.00031854528077943089,\n",
       " -0.0017847248468698534,\n",
       " 0.0014502305490854128,\n",
       " 0.00012187193970715493,\n",
       " 0.0015945070016492452,\n",
       " 0.00074144548953940237,\n",
       " -0.00041493365865967469,\n",
       " 0.0010579060479107283,\n",
       " 0.0017253727885422898,\n",
       " -0.00030491803287698016,\n",
       " 0.0013333399059629603,\n",
       " 0.0015330394294764821,\n",
       " -0.00074512378724762851,\n",
       " 0.00066564976161216649,\n",
       " 0.00014948456361163487,\n",
       " 0.0018975568943497695,\n",
       " 0.00061730123651485003,\n",
       " 0.0010854027065258232,\n",
       " 0.00067235253638973924,\n",
       " 0.00077565686053537863,\n",
       " 0.0016430175370773237,\n",
       " 0.0010029212575400626,\n",
       " 0.0011199039907452413,\n",
       " -0.001020861201498538,\n",
       " 0.0010441457809998722,\n",
       " 0.0020284312081023104,\n",
       " 0.0021662999152277651,\n",
       " -0.00029809417669432459,\n",
       " 0.0026478239885128624,\n",
       " -0.0015300013094319137,\n",
       " 0.0013058006130503147,\n",
       " 0.0010167241587484971,\n",
       " 0.0014707242874680837,\n",
       " 0.00094097277049073891,\n",
       " 0.00093390845686981694,\n",
       " 0.0015466086947342333,\n",
       " -0.00047723345232095205,\n",
       " -0.00040825475908874698,\n",
       " 0.00077592801466788708,\n",
       " -0.00031187831881182571,\n",
       " 0.00056945238538502752,\n",
       " 0.0021729071891787854,\n",
       " 0.0035771723756579249,\n",
       " 0.00014931402642136271,\n",
       " -0.00011211058042222277,\n",
       " 0.0021453406103156825,\n",
       " 0.00076880571840227951,\n",
       " -0.001529812013150722,\n",
       " 0.00068609404420966191,\n",
       " 0.0026343058844121858,\n",
       " 0.00047292757775255212,\n",
       " 0.00082379562488865687,\n",
       " 0.0014571908350202584,\n",
       " 0.00036978185319386236,\n",
       " 0.0018287316845888163,\n",
       " 0.00059683819482643508,\n",
       " 0.0005006254702521612,\n",
       " 0.00129898357835527,\n",
       " 0.0016360845370929078,\n",
       " 0.0033565425385546771,\n",
       " 0.0029645096559753475,\n",
       " 0.00035584763834892175,\n",
       " -3.6309736379275259e-05,\n",
       " 0.0002869695620589946,\n",
       " 4.8602151796472981e-06,\n",
       " 0.0020697631699919811,\n",
       " 0.0012784318573279274,\n",
       " 0.00035569074413388524,\n",
       " 0.0011682815071649005,\n",
       " 0.0016016651107248203,\n",
       " -0.00093151667277635575,\n",
       " 0.0018220289098112574,\n",
       " 0.00034216581854558392,\n",
       " -0.0012615584340087832,\n",
       " 0.0015398956877252651,\n",
       " 0.0006865579053671883,\n",
       " 0.0010717123598629752,\n",
       " 0.0029779544290842314,\n",
       " 0.0028264738224034469,\n",
       " -2.2791348049944204e-06,\n",
       " 0.0010028649802672901,\n",
       " 0.0013470302526258221,\n",
       " 0.0030194364637013277,\n",
       " 0.00058999728492475922,\n",
       " 0.00090660962139543777,\n",
       " 0.00099608375838219909,\n",
       " 0.0032878963928434923,\n",
       " -0.0013096358049735912,\n",
       " 0.0013814343306468024,\n",
       " 0.0017876572338564323,\n",
       " 0.00082379221414485837,\n",
       " 0.0011679677187348275,\n",
       " 0.00081699393854074709,\n",
       " 0.0013746769839683426,\n",
       " 0.0014159953028828054,\n",
       " 0.00083744163188205489,\n",
       " 0.0012989392386858062,\n",
       " 0.0014982601696369169,\n",
       " 0.00061768323982104578,\n",
       " -0.0008624117820233701,\n",
       " 0.0018011497573785923,\n",
       " 0.00068631744792890803,\n",
       " 0.000927166458538492,\n",
       " 0.0015054643237538551,\n",
       " 0.0010853737152034804,\n",
       " 0.0015740780673988847,\n",
       " 0.00063112971830182885,\n",
       " 0.0019044591976399294,\n",
       " -0.00097262352557489495,\n",
       " 0.0011819445678773188,\n",
       " 0.0013538626356679739,\n",
       " 0.0023864522481982647,\n",
       " -2.269613145203242e-05,\n",
       " -0.00060074330699771972,\n",
       " -2.9441540527155863e-05,\n",
       " 0.0018013305268002738,\n",
       " -0.00041478699667604757,\n",
       " 0.0018561260208897479,\n",
       " 0.0010717584049043521,\n",
       " 0.0021246985045774713,\n",
       " 0.0019388172306195328,\n",
       " -0.00067634632789995153,\n",
       " 0.00053484707347954685,\n",
       " 0.0029854092728708592,\n",
       " 0.001821788452372991,\n",
       " -0.0020187414744372717,\n",
       " 0.0019320104281559114,\n",
       " -8.8369529708254291e-06,\n",
       " 0.0011128567308433535,\n",
       " -0.001839839245505126,\n",
       " 0.00098910471335642014,\n",
       " 3.9308632870077576e-05,\n",
       " 0.00019739139738615685,\n",
       " 0.00095470575145116532,\n",
       " -0.00095172390867939716,\n",
       " -0.00066271225850987603,\n",
       " 0.00012866509919555458,\n",
       " 0.0014983965993891346,\n",
       " -0.00091726355338564436,\n",
       " 0.00072058509619767064,\n",
       " 0.00076874261964188229,\n",
       " 0.00094089602875511991,\n",
       " 0.0014227458280736266,\n",
       " 0.0011954046893333237,\n",
       " 0.0015533813897598142,\n",
       " 0.0025310868288616756,\n",
       " -0.001006579090785456,\n",
       " 0.00082399515340127183,\n",
       " -0.00066259799859240409,\n",
       " 0.00022543377501009487,\n",
       " -0.00036710527199267096,\n",
       " 0.0030263251240162797,\n",
       " 0.0016841960154957564,\n",
       " -0.0016881863962621563,\n",
       " -0.00087611406628955446,\n",
       " 0.00012215162069918739,\n",
       " 0.0017324865579483734,\n",
       " -0.00065587475935201256,\n",
       " 0.0022486005947918442,\n",
       " 0.00076878525393944686,\n",
       " 0.0014226707917099207,\n",
       " 0.0027854215415057948,\n",
       " 0.0022557194803136393,\n",
       " 0.0022834293104165709,\n",
       " 0.0024343659034604115,\n",
       " 0.00077582057623802603,\n",
       " 0.00070012034913734256,\n",
       " 0.00373546149017423,\n",
       " -0.00010566190605815207,\n",
       " 0.0004449329505418903,\n",
       " -0.0012475150753620823,\n",
       " 0.0026272500976507879,\n",
       " -0.0002707390639471452,\n",
       " -0.0017089240028269059,\n",
       " -0.00073840566412294861,\n",
       " 0.00018385794493835927,\n",
       " 0.00013590677149434571,\n",
       " -0.0013580610718065128,\n",
       " -0.0010345617803927953,\n",
       " -0.00075223073516611505,\n",
       " 4.6369535747187163e-05,\n",
       " 0.001573965512853312,\n",
       " 0.0012849163445019379,\n",
       " 0.00071377829373404922,\n",
       " 0.0013056897638766413,\n",
       " 0.0028542535727543727,\n",
       " -0.0020185641157594164,\n",
       " 8.0672996825889576e-05,\n",
       " 0.00038338522588968194,\n",
       " 0.00054854935774571734,\n",
       " 0.00082369671331830596,\n",
       " 0.0019183541889311179,\n",
       " 0.00031457706984774902,\n",
       " -0.0013922894965215094,\n",
       " -0.00080736730363611953,\n",
       " -0.00014647031877371153,\n",
       " 0.0011473119700213946,\n",
       " 0.00012205782524454811,\n",
       " 0.0013814633219691452,\n",
       " 0.00061730294188676316,\n",
       " 0.0004934946471270435,\n",
       " 0.002276242210018653,\n",
       " 0.0010026586302670643,\n",
       " -0.0014752723248466354,\n",
       " 0.00096170185019597842,\n",
       " 0.0003489964962158365,\n",
       " 0.00092033237012444091,\n",
       " 0.0021455844784977612,\n",
       " 0.00083102365421224011,\n",
       " 0.00039753772833814316,\n",
       " 0.0011199602680180276,\n",
       " 0.0020216141734072657,\n",
       " 0.0025788879295782496,\n",
       " 0.0010509355297444595,\n",
       " 0.00038345003002197842,\n",
       " -0.0011308069070332383,\n",
       " -0.00042876555119045201,\n",
       " 0.0015054916097042986,\n",
       " 0.0012434922925295272,\n",
       " -0.00022194714215514888,\n",
       " 4.9096709648088765e-06,\n",
       " 0.0013951161504501264,\n",
       " 0.00085836171324038535,\n",
       " 0.00083778441163448458,\n",
       " 0.00070695102680759514,\n",
       " -0.00035315741417252244,\n",
       " -0.0015709870808253562,\n",
       " 0.0012715329647815521,\n",
       " 0.00023893823613556353,\n",
       " 0.00035604034537392582,\n",
       " 0.0030401314359685128,\n",
       " -0.00071073164682998458,\n",
       " 0.0024551393228351009,\n",
       " 0.0014914994122146724,\n",
       " 0.00010803834180447836,\n",
       " -0.00015358067743599657,\n",
       " 0.00017686525693734467,\n",
       " 0.0015537326963717402,\n",
       " 0.0030332871153230384,\n",
       " 0.0021455316119687734,\n",
       " 0.00079635183280254984,\n",
       " -0.000518191937763951,\n",
       " 0.0001011019310762501,\n",
       " 0.001112754408529204,\n",
       " 0.00081015302863907124,\n",
       " 0.00041107629690168013,\n",
       " 0.0010783980809215138,\n",
       " -0.00016017089766799664,\n",
       " 0.0013881336946805489,\n",
       " 0.0010717908069704796,\n",
       " 0.0016083423049238349,\n",
       " 0.0012367281243634703,\n",
       " 0.0016431011003005536,\n",
       " 0.002241972856378005,\n",
       " 0.00079661787081936053,\n",
       " 0.0014091475714935187,\n",
       " 0.00076178233370702286,\n",
       " -0.00058018817522655086,\n",
       " -0.00089664361748216515,\n",
       " 0.00026643318937874527,\n",
       " 0.00094054813288697858,\n",
       " -0.00018111144348914587,\n",
       " 0.0013194670845065315,\n",
       " 0.0013402098071869928,\n",
       " 0.0011887240843904967,\n",
       " 0.0012232816458827012,\n",
       " -0.00060083880782425825,\n",
       " -0.0020113684885019883,\n",
       " -0.00041488590824639848,\n",
       " 0.0007757864687999716,\n",
       " 0.00076198697833533557,\n",
       " 0.00074153416887834389,\n",
       " 0.0028749297859306244,\n",
       " 0.0008170638587887552,\n",
       " -0.0003184907088785438,\n",
       " 0.00058990007872632144,\n",
       " 4.9932341880387643e-06,\n",
       " -0.00027713657715414119,\n",
       " 0.0016774830084867881,\n",
       " 0.0012851141676426397,\n",
       " 0.0011680205852638015,\n",
       " 0.0011750286216119232,\n",
       " 0.00063124397821930078,\n",
       " 0.00089980793504752798,\n",
       " 0.0016566294366326534,\n",
       " -0.00083453823621780499,\n",
       " -0.0021493804468672717,\n",
       " 0.0015604098905707686,\n",
       " 0.00069328455535137834,\n",
       " 0.0037904650396358291,\n",
       " 0.00015616346318256258,\n",
       " 1.202344037092018e-05,\n",
       " 0.0010510958347033084,\n",
       " 0.0012300730999991877,\n",
       " 0.00052807778919777837,\n",
       " 0.0018768056448098119,\n",
       " 0.0017464190674214147,\n",
       " -0.00016019647824652705,\n",
       " 0.0018770392807604674,\n",
       " 0.0003487952623313223,\n",
       " 0.00099624235796913485,\n",
       " 0.0015949452822282412,\n",
       " 0.00054163000073652323,\n",
       " 0.001642920330878872,\n",
       " 0.00058999557955285997,\n",
       " 0.00019048568335218452,\n",
       " 0.0010648271102918216,\n",
       " 0.0003972699849494471,\n",
       " 0.00085133150705750393,\n",
       " 0.0018635211766597631,\n",
       " 0.0012989000151320401,\n",
       " 0.0010509764586701248,\n",
       " 0.00035604375611772432,\n",
       " 0.0011267329630435946,\n",
       " 0.00034881572679416883,\n",
       " 0.00018380678378127069,\n",
       " -0.00044933773668064114,\n",
       " -0.0010754827476539414,\n",
       " 0.0017118904972515531,\n",
       " 0.0018700909324289305,\n",
       " -0.00036660048190947925,\n",
       " -0.00016729489930550345,\n",
       " 0.0018149884713969805,\n",
       " 0.0020491312964852071,\n",
       " -0.0010687850889920941,\n",
       " 0.00073444256930697838,\n",
       " 0.00158797135331816,\n",
       " 0.0010099139455410772,\n",
       " 0.0010992601796351448,\n",
       " 0.0010305389975602403,\n",
       " 0.0014020457396907438,\n",
       " 0.00010121448562183666,\n",
       " 0.001938711497561571,\n",
       " 0.00015621632971153654,\n",
       " 4.8977333615002339e-06,\n",
       " 7.3990686511177239e-05,\n",
       " -0.00087611577166145371,\n",
       " 6.6713201402418543e-05,\n",
       " 0.00055576544946597806,\n",
       " 0.00030090036616012283,\n",
       " 0.0011612802923043758,\n",
       " -0.00020861833433566401,\n",
       " 0.00084486066285871519,\n",
       " 0.00023889901258179747,\n",
       " 0.0018010440243206305,\n",
       " 0.0017873246863354258,\n",
       " -0.00044241837967146092,\n",
       " -0.0018534579665480666,\n",
       " 0.00034915168505897376,\n",
       " 0.0010718010392019028,\n",
       " 0.00043156832991243788,\n",
       " -0.0011513722710358165,\n",
       " 0.00075495336140866953,\n",
       " -0.0018946330342226869,\n",
       " 0.0009068517842056173,\n",
       " -0.002039008398356898,\n",
       " 0.0016706403932131991,\n",
       " -5.0163798744784494e-05,\n",
       " 0.00083747403394819619,\n",
       " 0.002475689338490572,\n",
       " 0.0026686707388793862,\n",
       " 0.0017187331125251282,\n",
       " 0.0023451066433333723,\n",
       " 0.0026133823923100569,\n",
       " -0.001468305217424179,\n",
       " -0.00080719335570204886,\n",
       " -0.00092429546494041115,\n",
       " 0.0021936601440906422,\n",
       " -0.00046978884076574745,\n",
       " -0.0012820777529699984,\n",
       " 0.0012299707776850383,\n",
       " 0.0010165382732111039,\n",
       " -0.00053917852862647719,\n",
       " 0.0016427293292257811,\n",
       " 0.00036953286889607195,\n",
       " 0.0022622960575704038,\n",
       " -7.0783734648263708e-05,\n",
       " -0.00024278877640596108,\n",
       " 0.00073444939079458926,\n",
       " 0.0020007503693217354,\n",
       " 0.0025033974632215905,\n",
       " 0.00019763867631203413,\n",
       " 0.0011473273183685156,\n",
       " 0.0015329081158399621,\n",
       " 0.001098939569717447,\n",
       " 0.0025171662569919567,\n",
       " 0.0023796300973875223,\n",
       " -0.00065574344571550647,\n",
       " 0.0014916409580826018,\n",
       " 0.0021867015635276821,\n",
       " -0.0017707565245868723,\n",
       " -0.00091747501950156796,\n",
       " 0.0015188886323999062,\n",
       " 0.00052792260035464111,\n",
       " -0.001584899125835551,\n",
       " -0.00044936672800298394,\n",
       " -0.00020840686821972654,\n",
       " 0.00080363613939890555,\n",
       " 0.0016360606618862766,\n",
       " 0.00065191678065175396,\n",
       " -0.0021217831713099128,\n",
       " 0.0022140941944567144,\n",
       " 0.0014708402527574549,\n",
       " 0.00056247675110303319,\n",
       " -0.00033240275388873863,\n",
       " 0.00094780003741719299,\n",
       " 0.00028022244761195803,\n",
       " -0.00011896683867100577,\n",
       " 0.0017463491471734066,\n",
       " 0.0021043343744594073,\n",
       " 0.00047988104219980066,\n",
       " 0.0018083522061236174,\n",
       " 0.0027511044374518706,\n",
       " 0.0015399212683038094,\n",
       " -0.00029786395148746758,\n",
       " -6.4019566482206858e-05,\n",
       " -0.00084140813744180976,\n",
       " 5.9913220426408009e-05,\n",
       " -0.00038071376080420216,\n",
       " -0.00069052270555504391,\n",
       " 0.0020284158597551893,\n",
       " 0.0013399215993354363,\n",
       " -0.0013716508015271106,\n",
       " -0.00024304117144755,\n",
       " 0.0019045086534251049,\n",
       " 6.6588709253523337e-05,\n",
       " 0.0016843972493802706,\n",
       " 0.0019250961872624289,\n",
       " -0.0027755663867662234,\n",
       " 0.0021726735532281022,\n",
       " 0.0016363130569278656,\n",
       " 0.00080346560220864727,\n",
       " 0.0019803743016003489,\n",
       " -0.0015095433838592104,\n",
       " -0.00018072602943915161,\n",
       " 0.0011336915436065409,\n",
       " 0.0016704749721386525,\n",
       " 0.00068625264379661155,\n",
       " 0.00054173232305067265,\n",
       " 0.00045909909596558718,\n",
       " 0.0015191683133919387,\n",
       " -0.0019497184415356167,\n",
       " -0.0007593189239936543,\n",
       " 0.0024001954613901144,\n",
       " 0.0026068194580285142,\n",
       " 0.0018565830605596495,\n",
       " 0.00074142502507656971,\n",
       " -0.0013301977582323571,\n",
       " -4.9989850810713832e-05,\n",
       " 0.0015330735369145226,\n",
       " 0.0041967663899529911,\n",
       " 0.00036970681683014261,\n",
       " -0.00051114979397776095,\n",
       " -0.00029778379900805008,\n",
       " 0.0021178746483948296,\n",
       " 0.00086533393677855341,\n",
       " 0.0015051147225138145,\n",
       " 0.00144361133753107,\n",
       " 0.0011749365315291832,\n",
       " 0.0015875091975325467,\n",
       " 0.00050050779959087688,\n",
       " 0.002000869745354919,\n",
       " 0.0046715535810225028,\n",
       " -0.00076610867273825545,\n",
       " 0.00021821086180223714,\n",
       " 0.0020762732377445359,\n",
       " -0.0001538995819817951,\n",
       " 0.0013815963409775367,\n",
       " 0.0023794766139162843,\n",
       " 0.0011678807447677853,\n",
       " 0.0031710688484814648,\n",
       " 0.00041083583946339985,\n",
       " 0.0015054319216876999,\n",
       " 0.0011957014240443625,\n",
       " 0.0027649636159330915,\n",
       " -0.00046291723416982955,\n",
       " -0.00058716210413663206,\n",
       " -0.0009656615342681224,\n",
       " 0.00012897888762564147,\n",
       " -0.00023584042807442418,\n",
       " 0.00038357111142707512,\n",
       " 0.0047125257094407097,\n",
       " 0.00052814941481768574,\n",
       " 0.0018839808076043935,\n",
       " 0.0014157122111469606,\n",
       " 0.0021730657887657212,\n",
       " 0.0024207727629960152,\n",
       " 0.0011196686494226726,\n",
       " 0.0005280351549002138,\n",
       " -5.0209843786161446e-05,\n",
       " -0.0003393613344516988,\n",
       " 0.0017737179028957939,\n",
       " 0.00046615829347078364,\n",
       " 0.00065891287939656706,\n",
       " 0.00054858175981185864,\n",
       " 0.0026202983385754386,\n",
       " 0.0014226912561727395,\n",
       " 0.00041101319814126902,\n",
       " -0.0014335600650226821,\n",
       " 0.001230090153718208,\n",
       " 0.00083087017074098823,\n",
       " -0.001137523324786005,\n",
       " -0.00046999348539406016,\n",
       " 0.00066549457276904311,\n",
       " 0.0022694422290426564,\n",
       " 0.00055546359863919981,\n",
       " 0.00050723444957506691,\n",
       " 0.0011197794985963599,\n",
       " -0.00080025694497383448,\n",
       " -0.0015023289975108489,\n",
       " 0.0012777565300544774,\n",
       " 1.8675053991390467e-05,\n",
       " 0.0013263489233338727,\n",
       " -0.00063498878543173654,\n",
       " 0.001725703630691397,\n",
       " 0.0011201939039686831,\n",
       " 0.00071373054332077301,\n",
       " 0.00083777929551875907,\n",
       " -0.00041501381113909219,\n",
       " -0.00031870899648207829,\n",
       " 0.0023519987143921228,\n",
       " 0.0019113529740705792,\n",
       " 0.00024586100388857002,\n",
       " 0.0022280164716983325,\n",
       " -0.0021704437794654169,\n",
       " ...]"
      ]
     },
     "execution_count": 37,
     "metadata": {},
     "output_type": "execute_result"
    }
   ],
   "source": [
    "p_diffs"
   ]
  },
  {
   "cell_type": "code",
   "execution_count": 38,
   "metadata": {},
   "outputs": [],
   "source": [
    "p_real_a = df2.query(('group==\"control\"')).converted.sum()/df2.query(('group==\"control\"')).converted.shape[0]\n",
    "\n",
    "p_real_b = df2.query(('group==\"treatment\"')).converted.sum()/df2.query(('group==\"treatment\"')).converted.shape[0]\n",
    "\n",
    "p_real_diff = p_real_b - p_real_a \n"
   ]
  },
  {
   "cell_type": "code",
   "execution_count": 39,
   "metadata": {
    "scrolled": true
   },
   "outputs": [
    {
     "data": {
      "text/plain": [
       "0.97699999999999998"
      ]
     },
     "execution_count": 39,
     "metadata": {},
     "output_type": "execute_result"
    }
   ],
   "source": [
    "# What propition of the simulated is greater than actual difference?\n",
    "np.sum(p_real_diff<p_diffs)/(p_real_diff<p_diffs).shape[0]"
   ]
  },
  {
   "cell_type": "code",
   "execution_count": 40,
   "metadata": {},
   "outputs": [],
   "source": [
    "# Prepare for null plot\n",
    "p_diffs = np.array(p_diffs)\n",
    "null_valls = np.random.normal(0,p_diffs.std(),p_diffs.size)"
   ]
  },
  {
   "cell_type": "code",
   "execution_count": 41,
   "metadata": {
    "scrolled": true
   },
   "outputs": [
    {
     "data": {
      "image/png": "[encoded data removed]",
      "text/plain": [
       "<matplotlib.figure.Figure at 0x7fb1c7331ba8>"
      ]
     },
     "metadata": {
      "needs_background": "light"
     },
     "output_type": "display_data"
    }
   ],
   "source": [
    "# A visual representation\n",
    "plt.hist(null_valls)\n",
    "plt.axvline(p_real_diff,color='r');"
   ]
  },
  {
   "cell_type": "code",
   "execution_count": 49,
   "metadata": {},
   "outputs": [
    {
     "data": {
      "text/plain": [
       "0.90849999999999997"
      ]
     },
     "execution_count": 49,
     "metadata": {},
     "output_type": "execute_result"
    }
   ],
   "source": [
    "#p_value \n",
    "(null_valls>p_real_diff).mean()"
   ]
  },
  {
   "cell_type": "markdown",
   "metadata": {},
   "source": [
    "k. Please explain using the vocabulary you've learned in this course what you just computed in part **j.**  What is this value called in scientific studies?  What does this value mean in terms of whether or not there is a difference between the new and old pages?"
   ]
  },
  {
   "cell_type": "markdown",
   "metadata": {},
   "source": [
    "what I have computed in part j was the p-value. In my case it was much higher than 0.05. Thus, we should accept the null hypothesis that the old page is better. "
   ]
  },
  {
   "cell_type": "markdown",
   "metadata": {},
   "source": [
    "l. We could also use a built-in to achieve similar results.  Though using the built-in might be easier to code, the above portions are a walkthrough of the ideas that are critical to correctly thinking about statistical significance. Fill in the below to calculate the number of conversions for each page, as well as the number of individuals who received each page. Let `n_old` and `n_new` refer the the number of rows associated with the old page and new pages, respectively."
   ]
  },
  {
   "cell_type": "code",
   "execution_count": 50,
   "metadata": {},
   "outputs": [],
   "source": [
    "import statsmodels.api as sm\n",
    "\n",
    "convert_old = df2.query(\"group == 'control'\").converted.sum()\n",
    "convert_new = df2.query(\"group == 'treatment'\").converted.sum()\n",
    "n_old = df2.query(\"group == 'control'\").count()[0]\n",
    "n_new = df2.query(\"group == 'treatment'\").count()[0]"
   ]
  },
  {
   "cell_type": "code",
   "execution_count": 51,
   "metadata": {},
   "outputs": [
    {
     "data": {
      "text/plain": [
       "(17489, 17264)"
      ]
     },
     "execution_count": 51,
     "metadata": {},
     "output_type": "execute_result"
    }
   ],
   "source": [
    "convert_old, convert_new"
   ]
  },
  {
   "cell_type": "code",
   "execution_count": 52,
   "metadata": {},
   "outputs": [
    {
     "data": {
      "text/plain": [
       "(145274, 145310)"
      ]
     },
     "execution_count": 52,
     "metadata": {},
     "output_type": "execute_result"
    }
   ],
   "source": [
    "n_old,n_new"
   ]
  },
  {
   "cell_type": "code",
   "execution_count": 53,
   "metadata": {},
   "outputs": [
    {
     "data": {
      "text/html": [
       "<div>\n",
       "<style scoped>\n",
       "    .dataframe tbody tr th:only-of-type {\n",
       "        vertical-align: middle;\n",
       "    }\n",
       "\n",
       "    .dataframe tbody tr th {\n",
       "        vertical-align: top;\n",
       "    }\n",
       "\n",
       "    .dataframe thead th {\n",
       "        text-align: right;\n",
       "    }\n",
       "</style>\n",
       "<table border=\"1\" class=\"dataframe\">\n",
       "  <thead>\n",
       "    <tr style=\"text-align: right;\">\n",
       "      <th></th>\n",
       "      <th>user_id</th>\n",
       "      <th>timestamp</th>\n",
       "      <th>group</th>\n",
       "      <th>landing_page</th>\n",
       "      <th>converted</th>\n",
       "      <th>dupl</th>\n",
       "    </tr>\n",
       "  </thead>\n",
       "  <tbody>\n",
       "    <tr>\n",
       "      <th>0</th>\n",
       "      <td>851104</td>\n",
       "      <td>2017-01-21 22:11:48.556739</td>\n",
       "      <td>control</td>\n",
       "      <td>old_page</td>\n",
       "      <td>0</td>\n",
       "      <td>False</td>\n",
       "    </tr>\n",
       "    <tr>\n",
       "      <th>1</th>\n",
       "      <td>804228</td>\n",
       "      <td>2017-01-12 08:01:45.159739</td>\n",
       "      <td>control</td>\n",
       "      <td>old_page</td>\n",
       "      <td>0</td>\n",
       "      <td>False</td>\n",
       "    </tr>\n",
       "    <tr>\n",
       "      <th>2</th>\n",
       "      <td>661590</td>\n",
       "      <td>2017-01-11 16:55:06.154213</td>\n",
       "      <td>treatment</td>\n",
       "      <td>new_page</td>\n",
       "      <td>0</td>\n",
       "      <td>False</td>\n",
       "    </tr>\n",
       "    <tr>\n",
       "      <th>3</th>\n",
       "      <td>853541</td>\n",
       "      <td>2017-01-08 18:28:03.143765</td>\n",
       "      <td>treatment</td>\n",
       "      <td>new_page</td>\n",
       "      <td>0</td>\n",
       "      <td>False</td>\n",
       "    </tr>\n",
       "    <tr>\n",
       "      <th>4</th>\n",
       "      <td>864975</td>\n",
       "      <td>2017-01-21 01:52:26.210827</td>\n",
       "      <td>control</td>\n",
       "      <td>old_page</td>\n",
       "      <td>1</td>\n",
       "      <td>False</td>\n",
       "    </tr>\n",
       "  </tbody>\n",
       "</table>\n",
       "</div>"
      ],
      "text/plain": [
       "   user_id                   timestamp      group landing_page  converted  \\\n",
       "0   851104  2017-01-21 22:11:48.556739    control     old_page          0   \n",
       "1   804228  2017-01-12 08:01:45.159739    control     old_page          0   \n",
       "2   661590  2017-01-11 16:55:06.154213  treatment     new_page          0   \n",
       "3   853541  2017-01-08 18:28:03.143765  treatment     new_page          0   \n",
       "4   864975  2017-01-21 01:52:26.210827    control     old_page          1   \n",
       "\n",
       "    dupl  \n",
       "0  False  \n",
       "1  False  \n",
       "2  False  \n",
       "3  False  \n",
       "4  False  "
      ]
     },
     "execution_count": 53,
     "metadata": {},
     "output_type": "execute_result"
    }
   ],
   "source": [
    "df.head()"
   ]
  },
  {
   "cell_type": "markdown",
   "metadata": {},
   "source": [
    "m. Now use `stats.proportions_ztest` to compute your test statistic and p-value.  [Here](http://knowledgetack.com/python/statsmodels/proportions_ztest/) is a helpful link on using the built in."
   ]
  },
  {
   "cell_type": "code",
   "execution_count": 75,
   "metadata": {},
   "outputs": [],
   "source": [
    "count = np.array([convert_old,convert_new]) \n",
    "nobs = np.array([n_old,n_new])\n",
    "#value = 0.05\n",
    "\n",
    "stat, pval = sm.stats.proportions_ztest(count,nobs,alternative='smaller')\n",
    "\n"
   ]
  },
  {
   "cell_type": "code",
   "execution_count": 76,
   "metadata": {},
   "outputs": [
    {
     "data": {
      "text/plain": [
       "(1.3109241984234394, 0.90505831275902449)"
      ]
     },
     "execution_count": 76,
     "metadata": {},
     "output_type": "execute_result"
    }
   ],
   "source": [
    "stat, pval"
   ]
  },
  {
   "cell_type": "markdown",
   "metadata": {},
   "source": [
    "n. What do the z-score and p-value you computed in the previous question mean for the conversion rates of the old and new pages?  Do they agree with the findings in parts **j.** and **k.**?"
   ]
  },
  {
   "cell_type": "markdown",
   "metadata": {},
   "source": [
    "The z-score indicate how many standard deviation from the mean the data is. Assuming a normal distrubtion, the current z-value, 1.31, shows that our data is between 1-2 standard deviation above the mean, and the p-value is 0.9 which means it's higher than 90% of the data.  \n",
    "\n",
    "Yes, the p-values in part j and k are the same. They both lead to the same conclusion to accept the null hypothesis since p-value > 0.05. The old page is BETTER. \n",
    "\n"
   ]
  },
  {
   "cell_type": "markdown",
   "metadata": {},
   "source": [
    "<a id='regression'></a>\n",
    "### Part III - A regression approach\n",
    "\n",
    "`1.` In this final part, you will see that the result you achieved in the A/B test in Part II above can also be achieved by performing regression.<br><br> \n",
    "\n",
    "a. Since each row is either a conversion or no conversion, what type of regression should you be performing in this case?"
   ]
  },
  {
   "cell_type": "markdown",
   "metadata": {},
   "source": [
    "Initially, I thought I was going to use linear, but realized that the conversion has only two outputs (0 or 1). In such conditions, logistic regression is reccomended for categorical dataset. "
   ]
  },
  {
   "cell_type": "markdown",
   "metadata": {},
   "source": [
    "b. The goal is to use **statsmodels** to fit the regression model you specified in part **a.** to see if there is a significant difference in conversion based on which page a customer receives. However, you first need to create in df2 a column for the intercept, and create a dummy variable column for which page each user received.  Add an **intercept** column, as well as an **ab_page** column, which is 1 when an individual receives the **treatment** and 0 if **control**."
   ]
  },
  {
   "cell_type": "code",
   "execution_count": 59,
   "metadata": {},
   "outputs": [],
   "source": [
    "df2[\"ab_page\"] =pd.get_dummies(df['group'])[\"treatment\"]\n",
    "df2 = df2.drop([\"group\"],axis=1)"
   ]
  },
  {
   "cell_type": "code",
   "execution_count": 61,
   "metadata": {},
   "outputs": [],
   "source": [
    "df2[\"intercept\"] = 1"
   ]
  },
  {
   "cell_type": "code",
   "execution_count": 63,
   "metadata": {},
   "outputs": [
    {
     "data": {
      "text/html": [
       "<div>\n",
       "<style scoped>\n",
       "    .dataframe tbody tr th:only-of-type {\n",
       "        vertical-align: middle;\n",
       "    }\n",
       "\n",
       "    .dataframe tbody tr th {\n",
       "        vertical-align: top;\n",
       "    }\n",
       "\n",
       "    .dataframe thead th {\n",
       "        text-align: right;\n",
       "    }\n",
       "</style>\n",
       "<table border=\"1\" class=\"dataframe\">\n",
       "  <thead>\n",
       "    <tr style=\"text-align: right;\">\n",
       "      <th></th>\n",
       "      <th>user_id</th>\n",
       "      <th>timestamp</th>\n",
       "      <th>landing_page</th>\n",
       "      <th>converted</th>\n",
       "      <th>dupl</th>\n",
       "      <th>ab_page</th>\n",
       "      <th>intercept</th>\n",
       "    </tr>\n",
       "  </thead>\n",
       "  <tbody>\n",
       "    <tr>\n",
       "      <th>0</th>\n",
       "      <td>851104</td>\n",
       "      <td>2017-01-21 22:11:48.556739</td>\n",
       "      <td>old_page</td>\n",
       "      <td>0</td>\n",
       "      <td>False</td>\n",
       "      <td>0</td>\n",
       "      <td>1</td>\n",
       "    </tr>\n",
       "    <tr>\n",
       "      <th>1</th>\n",
       "      <td>804228</td>\n",
       "      <td>2017-01-12 08:01:45.159739</td>\n",
       "      <td>old_page</td>\n",
       "      <td>0</td>\n",
       "      <td>False</td>\n",
       "      <td>0</td>\n",
       "      <td>1</td>\n",
       "    </tr>\n",
       "    <tr>\n",
       "      <th>2</th>\n",
       "      <td>661590</td>\n",
       "      <td>2017-01-11 16:55:06.154213</td>\n",
       "      <td>new_page</td>\n",
       "      <td>0</td>\n",
       "      <td>False</td>\n",
       "      <td>1</td>\n",
       "      <td>1</td>\n",
       "    </tr>\n",
       "    <tr>\n",
       "      <th>3</th>\n",
       "      <td>853541</td>\n",
       "      <td>2017-01-08 18:28:03.143765</td>\n",
       "      <td>new_page</td>\n",
       "      <td>0</td>\n",
       "      <td>False</td>\n",
       "      <td>1</td>\n",
       "      <td>1</td>\n",
       "    </tr>\n",
       "    <tr>\n",
       "      <th>4</th>\n",
       "      <td>864975</td>\n",
       "      <td>2017-01-21 01:52:26.210827</td>\n",
       "      <td>old_page</td>\n",
       "      <td>1</td>\n",
       "      <td>False</td>\n",
       "      <td>0</td>\n",
       "      <td>1</td>\n",
       "    </tr>\n",
       "  </tbody>\n",
       "</table>\n",
       "</div>"
      ],
      "text/plain": [
       "   user_id                   timestamp landing_page  converted   dupl  \\\n",
       "0   851104  2017-01-21 22:11:48.556739     old_page          0  False   \n",
       "1   804228  2017-01-12 08:01:45.159739     old_page          0  False   \n",
       "2   661590  2017-01-11 16:55:06.154213     new_page          0  False   \n",
       "3   853541  2017-01-08 18:28:03.143765     new_page          0  False   \n",
       "4   864975  2017-01-21 01:52:26.210827     old_page          1  False   \n",
       "\n",
       "   ab_page  intercept  \n",
       "0        0          1  \n",
       "1        0          1  \n",
       "2        1          1  \n",
       "3        1          1  \n",
       "4        0          1  "
      ]
     },
     "execution_count": 63,
     "metadata": {},
     "output_type": "execute_result"
    }
   ],
   "source": [
    "df2.head(5)"
   ]
  },
  {
   "cell_type": "markdown",
   "metadata": {},
   "source": [
    "c. Use **statsmodels** to instantiate your regression model on the two columns you created in part b., then fit the model using the two columns you created in part **b.** to predict whether or not an individual converts. "
   ]
  },
  {
   "cell_type": "code",
   "execution_count": 67,
   "metadata": {},
   "outputs": [
    {
     "name": "stdout",
     "output_type": "stream",
     "text": [
      "Optimization terminated successfully.\n",
      "         Current function value: 0.366118\n",
      "         Iterations 6\n"
     ]
    }
   ],
   "source": [
    "log_mod = sm.Logit(df2['converted'], df2[['intercept', 'ab_page']])\n",
    "results = log_mod.fit()\n"
   ]
  },
  {
   "cell_type": "markdown",
   "metadata": {},
   "source": [
    "d. Provide the summary of your model below, and use it as necessary to answer the following questions."
   ]
  },
  {
   "cell_type": "code",
   "execution_count": 68,
   "metadata": {
    "scrolled": true
   },
   "outputs": [
    {
     "data": {
      "text/html": [
       "<table class=\"simpletable\">\n",
       "<caption>Logit Regression Results</caption>\n",
       "<tr>\n",
       "  <th>Dep. Variable:</th>     <td>converted</td>    <th>  No. Observations:  </th>   <td>290584</td>   \n",
       "</tr>\n",
       "<tr>\n",
       "  <th>Model:</th>               <td>Logit</td>      <th>  Df Residuals:      </th>   <td>290582</td>   \n",
       "</tr>\n",
       "<tr>\n",
       "  <th>Method:</th>               <td>MLE</td>       <th>  Df Model:          </th>   <td>     1</td>   \n",
       "</tr>\n",
       "<tr>\n",
       "  <th>Date:</th>          <td>Thu, 25 Jul 2019</td> <th>  Pseudo R-squ.:     </th>  <td>8.077e-06</td> \n",
       "</tr>\n",
       "<tr>\n",
       "  <th>Time:</th>              <td>02:45:32</td>     <th>  Log-Likelihood:    </th> <td>-1.0639e+05</td>\n",
       "</tr>\n",
       "<tr>\n",
       "  <th>converged:</th>           <td>True</td>       <th>  LL-Null:           </th> <td>-1.0639e+05</td>\n",
       "</tr>\n",
       "<tr>\n",
       "  <th> </th>                      <td> </td>        <th>  LLR p-value:       </th>   <td>0.1899</td>   \n",
       "</tr>\n",
       "</table>\n",
       "<table class=\"simpletable\">\n",
       "<tr>\n",
       "      <td></td>         <th>coef</th>     <th>std err</th>      <th>z</th>      <th>P>|z|</th>  <th>[0.025</th>    <th>0.975]</th>  \n",
       "</tr>\n",
       "<tr>\n",
       "  <th>intercept</th> <td>   -1.9888</td> <td>    0.008</td> <td> -246.669</td> <td> 0.000</td> <td>   -2.005</td> <td>   -1.973</td>\n",
       "</tr>\n",
       "<tr>\n",
       "  <th>ab_page</th>   <td>   -0.0150</td> <td>    0.011</td> <td>   -1.311</td> <td> 0.190</td> <td>   -0.037</td> <td>    0.007</td>\n",
       "</tr>\n",
       "</table>"
      ],
      "text/plain": [
       "<class 'statsmodels.iolib.summary.Summary'>\n",
       "\"\"\"\n",
       "                           Logit Regression Results                           \n",
       "==============================================================================\n",
       "Dep. Variable:              converted   No. Observations:               290584\n",
       "Model:                          Logit   Df Residuals:                   290582\n",
       "Method:                           MLE   Df Model:                            1\n",
       "Date:                Thu, 25 Jul 2019   Pseudo R-squ.:               8.077e-06\n",
       "Time:                        02:45:32   Log-Likelihood:            -1.0639e+05\n",
       "converged:                       True   LL-Null:                   -1.0639e+05\n",
       "                                        LLR p-value:                    0.1899\n",
       "==============================================================================\n",
       "                 coef    std err          z      P>|z|      [0.025      0.975]\n",
       "------------------------------------------------------------------------------\n",
       "intercept     -1.9888      0.008   -246.669      0.000      -2.005      -1.973\n",
       "ab_page       -0.0150      0.011     -1.311      0.190      -0.037       0.007\n",
       "==============================================================================\n",
       "\"\"\""
      ]
     },
     "execution_count": 68,
     "metadata": {},
     "output_type": "execute_result"
    }
   ],
   "source": [
    "results.summary()"
   ]
  },
  {
   "cell_type": "code",
   "execution_count": 72,
   "metadata": {},
   "outputs": [
    {
     "data": {
      "text/plain": [
       "1.0151130646157189"
      ]
     },
     "execution_count": 72,
     "metadata": {},
     "output_type": "execute_result"
    }
   ],
   "source": [
    "# relationship between the ab_page and conversion \n",
    "1/np.exp(-0.0150)"
   ]
  },
  {
   "cell_type": "markdown",
   "metadata": {},
   "source": [
    "> Given the new page, it's 1.015 less likely to have conversion, holding everything constant."
   ]
  },
  {
   "cell_type": "markdown",
   "metadata": {},
   "source": [
    "e. What is the p-value associated with **ab_page**? Why does it differ from the value you found in **Part II**?<br><br>  \n",
    "\n",
    "\n"
   ]
  },
  {
   "cell_type": "markdown",
   "metadata": {},
   "source": [
    "**Put your answer here.**\n",
    "\n",
    "> The p-value is 0.190. \n",
    "\n",
    "> It differs from part II because the null hypothesis difinition is different for A/B testing and regression.\n",
    ">> For A/B testing, it's the current model is better or equal to the proposed model\n",
    "\n",
    ">> For linear regression, it suggests that there is no relationship between the independent variable (X) and the dependent variable (Y) (slope is zero). Thus, the p-value in this case represents a different thing due to different definition of the null hypothesis \n",
    "\n"
   ]
  },
  {
   "cell_type": "markdown",
   "metadata": {},
   "source": [
    "f. Now, you are considering other things that might influence whether or not an individual converts.  Discuss why it is a good idea to consider other factors to add into your regression model.  Are there any disadvantages to adding additional terms into your regression model?"
   ]
  },
  {
   "cell_type": "code",
   "execution_count": 77,
   "metadata": {},
   "outputs": [
    {
     "data": {
      "text/html": [
       "<div>\n",
       "<style scoped>\n",
       "    .dataframe tbody tr th:only-of-type {\n",
       "        vertical-align: middle;\n",
       "    }\n",
       "\n",
       "    .dataframe tbody tr th {\n",
       "        vertical-align: top;\n",
       "    }\n",
       "\n",
       "    .dataframe thead th {\n",
       "        text-align: right;\n",
       "    }\n",
       "</style>\n",
       "<table border=\"1\" class=\"dataframe\">\n",
       "  <thead>\n",
       "    <tr style=\"text-align: right;\">\n",
       "      <th></th>\n",
       "      <th>user_id</th>\n",
       "      <th>timestamp</th>\n",
       "      <th>landing_page</th>\n",
       "      <th>converted</th>\n",
       "      <th>dupl</th>\n",
       "      <th>ab_page</th>\n",
       "      <th>intercept</th>\n",
       "    </tr>\n",
       "  </thead>\n",
       "  <tbody>\n",
       "    <tr>\n",
       "      <th>0</th>\n",
       "      <td>851104</td>\n",
       "      <td>2017-01-21 22:11:48.556739</td>\n",
       "      <td>old_page</td>\n",
       "      <td>0</td>\n",
       "      <td>False</td>\n",
       "      <td>0</td>\n",
       "      <td>1</td>\n",
       "    </tr>\n",
       "    <tr>\n",
       "      <th>1</th>\n",
       "      <td>804228</td>\n",
       "      <td>2017-01-12 08:01:45.159739</td>\n",
       "      <td>old_page</td>\n",
       "      <td>0</td>\n",
       "      <td>False</td>\n",
       "      <td>0</td>\n",
       "      <td>1</td>\n",
       "    </tr>\n",
       "    <tr>\n",
       "      <th>2</th>\n",
       "      <td>661590</td>\n",
       "      <td>2017-01-11 16:55:06.154213</td>\n",
       "      <td>new_page</td>\n",
       "      <td>0</td>\n",
       "      <td>False</td>\n",
       "      <td>1</td>\n",
       "      <td>1</td>\n",
       "    </tr>\n",
       "    <tr>\n",
       "      <th>3</th>\n",
       "      <td>853541</td>\n",
       "      <td>2017-01-08 18:28:03.143765</td>\n",
       "      <td>new_page</td>\n",
       "      <td>0</td>\n",
       "      <td>False</td>\n",
       "      <td>1</td>\n",
       "      <td>1</td>\n",
       "    </tr>\n",
       "    <tr>\n",
       "      <th>4</th>\n",
       "      <td>864975</td>\n",
       "      <td>2017-01-21 01:52:26.210827</td>\n",
       "      <td>old_page</td>\n",
       "      <td>1</td>\n",
       "      <td>False</td>\n",
       "      <td>0</td>\n",
       "      <td>1</td>\n",
       "    </tr>\n",
       "  </tbody>\n",
       "</table>\n",
       "</div>"
      ],
      "text/plain": [
       "   user_id                   timestamp landing_page  converted   dupl  \\\n",
       "0   851104  2017-01-21 22:11:48.556739     old_page          0  False   \n",
       "1   804228  2017-01-12 08:01:45.159739     old_page          0  False   \n",
       "2   661590  2017-01-11 16:55:06.154213     new_page          0  False   \n",
       "3   853541  2017-01-08 18:28:03.143765     new_page          0  False   \n",
       "4   864975  2017-01-21 01:52:26.210827     old_page          1  False   \n",
       "\n",
       "   ab_page  intercept  \n",
       "0        0          1  \n",
       "1        0          1  \n",
       "2        1          1  \n",
       "3        1          1  \n",
       "4        0          1  "
      ]
     },
     "execution_count": 77,
     "metadata": {},
     "output_type": "execute_result"
    }
   ],
   "source": [
    "df2.head()"
   ]
  },
  {
   "cell_type": "markdown",
   "metadata": {},
   "source": [
    "**Put your answer here.**"
   ]
  },
  {
   "cell_type": "markdown",
   "metadata": {},
   "source": [
    "It'd be a great idea to include more factors into the logistic regression so that we have mutiplie logistic regression for the following reasons:\n",
    "\n",
    "- The time of the day may matter whether people pay attention to certain visual cues or not. Maybe people at night tend to look at certain things, thus the webstie should automatically give the night mode to the user.\n",
    "- Different langauges and cultures also have different ways of organaizing things. For examlpe, in Arabic, the writing start from right to left, which means Arabic speaking users tend to look at the website from right to left. The website design should take this into consideration.\n",
    "- Sometimes having just one factor can be over-simplification to the studied problem. Including necessary factors can increase the quality and accuracy of the model.\n",
    "\n",
    "The only disadvantage that I would see from including additional terms is that it can over-complicate the system and gonna lead to over-fitting. This problem arises in machine learning when we incldure a lot more features than we should for ths system. It is going to lose the generality and going to be very specific to the studied case."
   ]
  },
  {
   "cell_type": "markdown",
   "metadata": {},
   "source": [
    "g. Now along with testing if the conversion rate changes for different pages, also add an effect based on which country a user lives in. You will need to read in the **countries.csv** dataset and merge together your datasets on the appropriate rows.  [Here](https://pandas.pydata.org/pandas-docs/stable/generated/pandas.DataFrame.join.html) are the docs for joining tables. \n",
    "\n",
    "Does it appear that country had an impact on conversion?  Don't forget to create dummy variables for these country columns - **Hint: You will need two columns for the three dummy variables.** Provide the statistical output as well as a written response to answer this question."
   ]
  },
  {
   "cell_type": "code",
   "execution_count": 109,
   "metadata": {
    "scrolled": false
   },
   "outputs": [
    {
     "data": {
      "text/html": [
       "<div>\n",
       "<style scoped>\n",
       "    .dataframe tbody tr th:only-of-type {\n",
       "        vertical-align: middle;\n",
       "    }\n",
       "\n",
       "    .dataframe tbody tr th {\n",
       "        vertical-align: top;\n",
       "    }\n",
       "\n",
       "    .dataframe thead th {\n",
       "        text-align: right;\n",
       "    }\n",
       "</style>\n",
       "<table border=\"1\" class=\"dataframe\">\n",
       "  <thead>\n",
       "    <tr style=\"text-align: right;\">\n",
       "      <th></th>\n",
       "      <th>user_id</th>\n",
       "      <th>country</th>\n",
       "    </tr>\n",
       "  </thead>\n",
       "  <tbody>\n",
       "    <tr>\n",
       "      <th>0</th>\n",
       "      <td>834778</td>\n",
       "      <td>UK</td>\n",
       "    </tr>\n",
       "    <tr>\n",
       "      <th>1</th>\n",
       "      <td>928468</td>\n",
       "      <td>US</td>\n",
       "    </tr>\n",
       "    <tr>\n",
       "      <th>2</th>\n",
       "      <td>822059</td>\n",
       "      <td>UK</td>\n",
       "    </tr>\n",
       "    <tr>\n",
       "      <th>3</th>\n",
       "      <td>711597</td>\n",
       "      <td>UK</td>\n",
       "    </tr>\n",
       "    <tr>\n",
       "      <th>4</th>\n",
       "      <td>710616</td>\n",
       "      <td>UK</td>\n",
       "    </tr>\n",
       "  </tbody>\n",
       "</table>\n",
       "</div>"
      ],
      "text/plain": [
       "   user_id country\n",
       "0   834778      UK\n",
       "1   928468      US\n",
       "2   822059      UK\n",
       "3   711597      UK\n",
       "4   710616      UK"
      ]
     },
     "execution_count": 109,
     "metadata": {},
     "output_type": "execute_result"
    }
   ],
   "source": [
    "country = pd.read_csv(\"countries.csv\")\n",
    "country.head(5)"
   ]
  },
  {
   "cell_type": "code",
   "execution_count": 110,
   "metadata": {},
   "outputs": [
    {
     "data": {
      "text/plain": [
       "US    203619\n",
       "UK     72466\n",
       "CA     14499\n",
       "Name: country, dtype: int64"
      ]
     },
     "execution_count": 110,
     "metadata": {},
     "output_type": "execute_result"
    }
   ],
   "source": [
    "# Notice we have three countries\n",
    "country.country.value_counts()"
   ]
  },
  {
   "cell_type": "code",
   "execution_count": 111,
   "metadata": {},
   "outputs": [],
   "source": [
    "# just to insure we don't have missing data \n",
    "assert country.shape[0]== df2.shape[0]"
   ]
  },
  {
   "cell_type": "code",
   "execution_count": 112,
   "metadata": {
    "scrolled": false
   },
   "outputs": [],
   "source": [
    "df2_country = pd.merge(df2,country,on='user_id')\n"
   ]
  },
  {
   "cell_type": "code",
   "execution_count": 113,
   "metadata": {},
   "outputs": [],
   "source": [
    "df2_country[[\"CA\",\"UK\",\"US\"]] = pd.get_dummies(df2_country['country'])"
   ]
  },
  {
   "cell_type": "code",
   "execution_count": 114,
   "metadata": {},
   "outputs": [],
   "source": [
    "df2_country = df2_country.drop(['country','CA'], axis=1)\n"
   ]
  },
  {
   "cell_type": "code",
   "execution_count": 115,
   "metadata": {
    "scrolled": true
   },
   "outputs": [
    {
     "name": "stdout",
     "output_type": "stream",
     "text": [
      "Optimization terminated successfully.\n",
      "         Current function value: 0.366113\n",
      "         Iterations 6\n"
     ]
    },
    {
     "data": {
      "text/html": [
       "<table class=\"simpletable\">\n",
       "<caption>Logit Regression Results</caption>\n",
       "<tr>\n",
       "  <th>Dep. Variable:</th>     <td>converted</td>    <th>  No. Observations:  </th>   <td>290584</td>   \n",
       "</tr>\n",
       "<tr>\n",
       "  <th>Model:</th>               <td>Logit</td>      <th>  Df Residuals:      </th>   <td>290580</td>   \n",
       "</tr>\n",
       "<tr>\n",
       "  <th>Method:</th>               <td>MLE</td>       <th>  Df Model:          </th>   <td>     3</td>   \n",
       "</tr>\n",
       "<tr>\n",
       "  <th>Date:</th>          <td>Thu, 25 Jul 2019</td> <th>  Pseudo R-squ.:     </th>  <td>2.323e-05</td> \n",
       "</tr>\n",
       "<tr>\n",
       "  <th>Time:</th>              <td>05:08:38</td>     <th>  Log-Likelihood:    </th> <td>-1.0639e+05</td>\n",
       "</tr>\n",
       "<tr>\n",
       "  <th>converged:</th>           <td>True</td>       <th>  LL-Null:           </th> <td>-1.0639e+05</td>\n",
       "</tr>\n",
       "<tr>\n",
       "  <th> </th>                      <td> </td>        <th>  LLR p-value:       </th>   <td>0.1760</td>   \n",
       "</tr>\n",
       "</table>\n",
       "<table class=\"simpletable\">\n",
       "<tr>\n",
       "      <td></td>         <th>coef</th>     <th>std err</th>      <th>z</th>      <th>P>|z|</th>  <th>[0.025</th>    <th>0.975]</th>  \n",
       "</tr>\n",
       "<tr>\n",
       "  <th>intercept</th> <td>   -2.0300</td> <td>    0.027</td> <td>  -76.249</td> <td> 0.000</td> <td>   -2.082</td> <td>   -1.978</td>\n",
       "</tr>\n",
       "<tr>\n",
       "  <th>ab_page</th>   <td>   -0.0149</td> <td>    0.011</td> <td>   -1.307</td> <td> 0.191</td> <td>   -0.037</td> <td>    0.007</td>\n",
       "</tr>\n",
       "<tr>\n",
       "  <th>UK</th>        <td>    0.0506</td> <td>    0.028</td> <td>    1.784</td> <td> 0.074</td> <td>   -0.005</td> <td>    0.106</td>\n",
       "</tr>\n",
       "<tr>\n",
       "  <th>US</th>        <td>    0.0408</td> <td>    0.027</td> <td>    1.516</td> <td> 0.130</td> <td>   -0.012</td> <td>    0.093</td>\n",
       "</tr>\n",
       "</table>"
      ],
      "text/plain": [
       "<class 'statsmodels.iolib.summary.Summary'>\n",
       "\"\"\"\n",
       "                           Logit Regression Results                           \n",
       "==============================================================================\n",
       "Dep. Variable:              converted   No. Observations:               290584\n",
       "Model:                          Logit   Df Residuals:                   290580\n",
       "Method:                           MLE   Df Model:                            3\n",
       "Date:                Thu, 25 Jul 2019   Pseudo R-squ.:               2.323e-05\n",
       "Time:                        05:08:38   Log-Likelihood:            -1.0639e+05\n",
       "converged:                       True   LL-Null:                   -1.0639e+05\n",
       "                                        LLR p-value:                    0.1760\n",
       "==============================================================================\n",
       "                 coef    std err          z      P>|z|      [0.025      0.975]\n",
       "------------------------------------------------------------------------------\n",
       "intercept     -2.0300      0.027    -76.249      0.000      -2.082      -1.978\n",
       "ab_page       -0.0149      0.011     -1.307      0.191      -0.037       0.007\n",
       "UK             0.0506      0.028      1.784      0.074      -0.005       0.106\n",
       "US             0.0408      0.027      1.516      0.130      -0.012       0.093\n",
       "==============================================================================\n",
       "\"\"\""
      ]
     },
     "execution_count": 115,
     "metadata": {},
     "output_type": "execute_result"
    }
   ],
   "source": [
    "log_mod = sm.Logit(df2_country['converted'], df2_country[['intercept', 'ab_page', 'UK','US']])\n",
    "results = log_mod.fit()\n",
    "results.summary()"
   ]
  },
  {
   "cell_type": "code",
   "execution_count": 118,
   "metadata": {},
   "outputs": [
    {
     "data": {
      "text/plain": [
       "(1.0150115583846535, 1.0519020483004984, 1.0416437559600236)"
      ]
     },
     "execution_count": 118,
     "metadata": {},
     "output_type": "execute_result"
    }
   ],
   "source": [
    "# converted, UK, US \n",
    "1/np.exp(-0.0149), np.exp(0.0506), np.exp(0.0408)"
   ]
  },
  {
   "cell_type": "markdown",
   "metadata": {},
   "source": [
    "\n",
    "\n",
    "> The ab_page coef did not change. It's still going to be LESS likely 1.015X to convert holding everything else constant\n",
    "\n",
    "> The UK coef is 1.052X is MORE likely to convert holding everything else constant\n",
    "\n",
    "> The US coef is 1.0416X is MORE likely to convert holding everything else constant\n",
    "\n",
    "\n",
    "For the Null hypothesis, the p-values for ab_page, UK, and US is greater than alpha = 0.05. Thus, accept the null hypothesis that the new page is not better in terms of conversion."
   ]
  },
  {
   "cell_type": "markdown",
   "metadata": {},
   "source": [
    "h. Though you have now looked at the individual factors of country and page on conversion, we would now like to look at an interaction between page and country to see if there significant effects on conversion.  Create the necessary additional columns, and fit the new model.  \n",
    "\n",
    "Provide the summary results, and your conclusions based on the results."
   ]
  },
  {
   "cell_type": "code",
   "execution_count": 123,
   "metadata": {
    "scrolled": true
   },
   "outputs": [
    {
     "data": {
      "text/html": [
       "<div>\n",
       "<style scoped>\n",
       "    .dataframe tbody tr th:only-of-type {\n",
       "        vertical-align: middle;\n",
       "    }\n",
       "\n",
       "    .dataframe tbody tr th {\n",
       "        vertical-align: top;\n",
       "    }\n",
       "\n",
       "    .dataframe thead th {\n",
       "        text-align: right;\n",
       "    }\n",
       "</style>\n",
       "<table border=\"1\" class=\"dataframe\">\n",
       "  <thead>\n",
       "    <tr style=\"text-align: right;\">\n",
       "      <th></th>\n",
       "      <th>user_id</th>\n",
       "      <th>converted</th>\n",
       "      <th>dupl</th>\n",
       "      <th>ab_page</th>\n",
       "      <th>intercept</th>\n",
       "      <th>UK</th>\n",
       "      <th>US</th>\n",
       "    </tr>\n",
       "  </thead>\n",
       "  <tbody>\n",
       "    <tr>\n",
       "      <th>user_id</th>\n",
       "      <td>1.000000</td>\n",
       "      <td>0.001769</td>\n",
       "      <td>NaN</td>\n",
       "      <td>-0.001745</td>\n",
       "      <td>NaN</td>\n",
       "      <td>-0.002060</td>\n",
       "      <td>0.001187</td>\n",
       "    </tr>\n",
       "    <tr>\n",
       "      <th>converted</th>\n",
       "      <td>0.001769</td>\n",
       "      <td>1.000000</td>\n",
       "      <td>NaN</td>\n",
       "      <td>-0.002432</td>\n",
       "      <td>NaN</td>\n",
       "      <td>0.001772</td>\n",
       "      <td>-0.000237</td>\n",
       "    </tr>\n",
       "    <tr>\n",
       "      <th>dupl</th>\n",
       "      <td>NaN</td>\n",
       "      <td>NaN</td>\n",
       "      <td>NaN</td>\n",
       "      <td>NaN</td>\n",
       "      <td>NaN</td>\n",
       "      <td>NaN</td>\n",
       "      <td>NaN</td>\n",
       "    </tr>\n",
       "    <tr>\n",
       "      <th>ab_page</th>\n",
       "      <td>-0.001745</td>\n",
       "      <td>-0.002432</td>\n",
       "      <td>NaN</td>\n",
       "      <td>1.000000</td>\n",
       "      <td>NaN</td>\n",
       "      <td>-0.002092</td>\n",
       "      <td>0.001216</td>\n",
       "    </tr>\n",
       "    <tr>\n",
       "      <th>intercept</th>\n",
       "      <td>NaN</td>\n",
       "      <td>NaN</td>\n",
       "      <td>NaN</td>\n",
       "      <td>NaN</td>\n",
       "      <td>NaN</td>\n",
       "      <td>NaN</td>\n",
       "      <td>NaN</td>\n",
       "    </tr>\n",
       "    <tr>\n",
       "      <th>UK</th>\n",
       "      <td>-0.002060</td>\n",
       "      <td>0.001772</td>\n",
       "      <td>NaN</td>\n",
       "      <td>-0.002092</td>\n",
       "      <td>NaN</td>\n",
       "      <td>1.000000</td>\n",
       "      <td>-0.881979</td>\n",
       "    </tr>\n",
       "    <tr>\n",
       "      <th>US</th>\n",
       "      <td>0.001187</td>\n",
       "      <td>-0.000237</td>\n",
       "      <td>NaN</td>\n",
       "      <td>0.001216</td>\n",
       "      <td>NaN</td>\n",
       "      <td>-0.881979</td>\n",
       "      <td>1.000000</td>\n",
       "    </tr>\n",
       "  </tbody>\n",
       "</table>\n",
       "</div>"
      ],
      "text/plain": [
       "            user_id  converted  dupl   ab_page  intercept        UK        US\n",
       "user_id    1.000000   0.001769   NaN -0.001745        NaN -0.002060  0.001187\n",
       "converted  0.001769   1.000000   NaN -0.002432        NaN  0.001772 -0.000237\n",
       "dupl            NaN        NaN   NaN       NaN        NaN       NaN       NaN\n",
       "ab_page   -0.001745  -0.002432   NaN  1.000000        NaN -0.002092  0.001216\n",
       "intercept       NaN        NaN   NaN       NaN        NaN       NaN       NaN\n",
       "UK        -0.002060   0.001772   NaN -0.002092        NaN  1.000000 -0.881979\n",
       "US         0.001187  -0.000237   NaN  0.001216        NaN -0.881979  1.000000"
      ]
     },
     "execution_count": 123,
     "metadata": {},
     "output_type": "execute_result"
    }
   ],
   "source": [
    "# A good way to gauge whether one variable affect the other is to look at their correlation\n",
    "df2_country.corr()"
   ]
  },
  {
   "cell_type": "markdown",
   "metadata": {},
   "source": [
    "> As we can see for both ab_page - UK & ab_page - US both have very low correlation (-0.002092, 0.001216). It's almost zero which is no-relationship exist. This result also agrees with the p_values obtaiend earlier for these variables.\n"
   ]
  },
  {
   "cell_type": "markdown",
   "metadata": {},
   "source": [
    "# Conclusion"
   ]
  },
  {
   "cell_type": "markdown",
   "metadata": {},
   "source": [
    "> From both A/B testing as well as logistic regression, we should accept the old page as a better option for higher conversion rates. "
   ]
  },
  {
   "cell_type": "markdown",
   "metadata": {},
   "source": [
    "\n",
    "## Refrences\n",
    "\n",
    "1- http://www.biostathandbook.com/multiplelogistic.html\n",
    "\n",
    "2- http://www.biostathandbook.com/simplelogistic.html\n",
    "\n",
    "3- https://study.com/academy/lesson/what-is-a-null-hypothesis-definition-examples.html\n",
    "\n",
    "4- https://www.dummies.com/education/math/statistics/what-a-p-value-tells-you-about-statistical-data/\n",
    "\n",
    "5- https://www.khanacademy.org/math/ap-statistics/tests-significance-ap/idea-significance-tests/v/p-values-and-significance-tests\n",
    "\n"
   ]
  },
  {
   "cell_type": "markdown",
   "metadata": {},
   "source": [
    "<a id='conclusions'></a>\n",
    "\n",
    "\n",
    "## Directions to Submit\n",
    "\n",
    "> Before you submit your project, you need to create a .html or .pdf version of this notebook in the workspace here. To do that, run the code cell below. If it worked correctly, you should get a return code of 0, and you should see the generated .html file in the workspace directory (click on the orange Jupyter icon in the upper left).\n",
    "\n",
    "> Alternatively, you can download this report as .html via the **File** > **Download as** submenu, and then manually upload it into the workspace directory by clicking on the orange Jupyter icon in the upper left, then using the Upload button.\n",
    "\n",
    "> Once you've done this, you can submit your project by clicking on the \"Submit Project\" button in the lower right here. This will create and submit a zip file with this .ipynb doc and the .html or .pdf version you created. Congratulations!"
   ]
  },
  {
   "cell_type": "code",
   "execution_count": 126,
   "metadata": {},
   "outputs": [
    {
     "data": {
      "text/plain": [
       "0"
      ]
     },
     "execution_count": 126,
     "metadata": {},
     "output_type": "execute_result"
    }
   ],
   "source": [
    "from subprocess import call\n",
    "call(['python', '-m', 'nbconvert', 'Analyze_ab_test_results_notebook.ipynb'])"
   ]
  },
  {
   "cell_type": "code",
   "execution_count": null,
   "metadata": {},
   "outputs": [],
   "source": []
  }
 ],
 "metadata": {
  "kernelspec": {
   "display_name": "Python 3",
   "language": "python",
   "name": "python3"
  },
  "language_info": {
   "codemirror_mode": {
    "name": "ipython",
    "version": 3
   },
   "file_extension": ".py",
   "mimetype": "text/x-python",
   "name": "python",
   "nbconvert_exporter": "python",
   "pygments_lexer": "ipython3",
   "version": "3.6.3"
  }
 },
 "nbformat": 4,
 "nbformat_minor": 2
}
